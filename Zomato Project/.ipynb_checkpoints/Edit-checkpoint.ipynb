{
 "cells": [
  {
   "cell_type": "markdown",
   "metadata": {
    "id": "vncDsAP0Gaoa"
   },
   "source": [
    "# **Project Name**    - Unsupervised ML- Zomato Restaurant Clustering \n",
    "\n"
   ]
  },
  {
   "cell_type": "markdown",
   "metadata": {
    "id": "beRrZCGUAJYm"
   },
   "source": [
    "##### **Project Type**    - Unsupervised Machine Learning Project\n",
    "##### **Contribution**    - Individual\n",
    "##### **Apurba Koirala**\n"
   ]
  },
  {
   "cell_type": "markdown",
   "metadata": {
    "id": "FJNUwmbgGyua"
   },
   "source": [
    "# **Project Summary -**"
   ]
  },
  {
   "cell_type": "markdown",
   "metadata": {
    "id": "F6v_1wHtG2nS"
   },
   "source": [
    "Write the summary here within 500-600 words."
   ]
  },
  {
   "cell_type": "markdown",
   "metadata": {
    "id": "w6K7xa23Elo4"
   },
   "source": [
    "# **GitHub Link -**"
   ]
  },
  {
   "cell_type": "markdown",
   "metadata": {
    "id": "h1o69JH3Eqqn"
   },
   "source": [
    "https://github.com/apurbaaaa/Zomato"
   ]
  },
  {
   "cell_type": "markdown",
   "metadata": {
    "id": "yQaldy8SH6Dl"
   },
   "source": [
    "# **Problem Statement**\n"
   ]
  },
  {
   "cell_type": "markdown",
   "metadata": {
    "id": "DpeJGUA3kjGy"
   },
   "source": [
    "**Write Problem Statement Here.**"
   ]
  },
  {
   "cell_type": "markdown",
   "metadata": {
    "id": "mDgbUHAGgjLW"
   },
   "source": [
    "# **General Guidelines** : -  "
   ]
  },
  {
   "cell_type": "markdown",
   "metadata": {
    "id": "ZrxVaUj-hHfC"
   },
   "source": [
    "1.   Well-structured, formatted, and commented code is required.\n",
    "2.   Exception Handling, Production Grade Code & Deployment Ready Code will be a plus. Those students will be awarded some additional credits.\n",
    "     \n",
    "     The additional credits will have advantages over other students during Star Student selection.\n",
    "       \n",
    "             [ Note: - Deployment Ready Code is defined as, the whole .ipynb notebook should be executable in one go\n",
    "                       without a single error logged. ]\n",
    "\n",
    "3.   Each and every logic should have proper comments.\n",
    "4. You may add as many number of charts you want. Make Sure for each and every chart the following format should be answered.\n",
    "        \n",
    "\n",
    "```\n",
    "# Chart visualization code\n",
    "```\n",
    "            \n",
    "\n",
    "*   Why did you pick the specific chart?\n",
    "*   What is/are the insight(s) found from the chart?\n",
    "* Will the gained insights help creating a positive business impact?\n",
    "Are there any insights that lead to negative growth? Justify with specific reason.\n",
    "\n",
    "5. You have to create at least 15 logical & meaningful charts having important insights.\n",
    "\n",
    "\n",
    "[ Hints : - Do the Vizualization in  a structured way while following \"UBM\" Rule.\n",
    "\n",
    "U - Univariate Analysis,\n",
    "\n",
    "B - Bivariate Analysis (Numerical - Categorical, Numerical - Numerical, Categorical - Categorical)\n",
    "\n",
    "M - Multivariate Analysis\n",
    " ]\n",
    "\n",
    "\n",
    "\n",
    "\n",
    "\n",
    "6. You may add more ml algorithms for model creation. Make sure for each and every algorithm, the following format should be answered.\n",
    "\n",
    "\n",
    "*   Explain the ML Model used and it's performance using Evaluation metric Score Chart.\n",
    "\n",
    "\n",
    "*   Cross- Validation & Hyperparameter Tuning\n",
    "\n",
    "*   Have you seen any improvement? Note down the improvement with updates Evaluation metric Score Chart.\n",
    "\n",
    "*   Explain each evaluation metric's indication towards business and the business impact pf the ML model used.\n",
    "\n",
    "\n",
    "\n",
    "\n",
    "\n",
    "\n",
    "\n",
    "\n",
    "\n",
    "\n",
    "\n",
    "\n",
    "\n",
    "\n",
    "\n",
    "\n",
    "\n",
    "\n"
   ]
  },
  {
   "cell_type": "markdown",
   "metadata": {
    "id": "O_i_v8NEhb9l"
   },
   "source": [
    "# ***Let's Begin !***"
   ]
  },
  {
   "cell_type": "markdown",
   "metadata": {
    "id": "HhfV-JJviCcP"
   },
   "source": [
    "## ***1. Know Your Data***"
   ]
  },
  {
   "cell_type": "markdown",
   "metadata": {
    "id": "Y3lxredqlCYt"
   },
   "source": [
    "### Import Libraries"
   ]
  },
  {
   "cell_type": "code",
   "execution_count": 93,
   "metadata": {
    "id": "M8Vqi-pPk-HR"
   },
   "outputs": [],
   "source": [
    "# Import Libraries\n",
    "import numpy as np\n",
    "import pandas as pd\n",
    "import matplotlib.pyplot as plt\n",
    "import seaborn as sns \n",
    "from scipy.sparse import vstack\n",
    "from sklearn.cluster import KMeans, DBSCAN, AgglomerativeClustering\n",
    "from kmodes.kmodes import KModes\n",
    "from kmodes.kprototypes import KPrototypes\n",
    "import re\n",
    "import contractions\n",
    "import string\n",
    "import nltk\n",
    "from nltk.corpus import stopwords\n",
    "from nltk.tokenize import word_tokenize\n",
    "from nltk.stem import WordNetLemmatizer\n",
    "from nltk.tag import pos_tag\n",
    "from sklearn.feature_extraction.text import TfidfVectorizer\n",
    "from sklearn.preprocessing import LabelEncoder, MultiLabelBinarizer, StandardScaler\n",
    "from sklearn.decomposition import PCA"
   ]
  },
  {
   "cell_type": "markdown",
   "metadata": {
    "id": "3RnN4peoiCZX"
   },
   "source": [
    "### Dataset Loading"
   ]
  },
  {
   "cell_type": "code",
   "execution_count": 2,
   "metadata": {
    "id": "4CkvbW_SlZ_R"
   },
   "outputs": [],
   "source": [
    "# Load Dataset\n",
    "names = pd.read_csv(\"Zomato Restaurant names and Metadata.csv\")\n",
    "reviews = pd.read_csv(\"Zomato Restaurant reviews.csv\")"
   ]
  },
  {
   "cell_type": "markdown",
   "metadata": {
    "id": "x71ZqKXriCWQ"
   },
   "source": [
    "### Dataset First View"
   ]
  },
  {
   "cell_type": "code",
   "execution_count": 3,
   "metadata": {
    "id": "LWNFOSvLl09H"
   },
   "outputs": [
    {
     "data": {
      "text/html": [
       "<div>\n",
       "<style scoped>\n",
       "    .dataframe tbody tr th:only-of-type {\n",
       "        vertical-align: middle;\n",
       "    }\n",
       "\n",
       "    .dataframe tbody tr th {\n",
       "        vertical-align: top;\n",
       "    }\n",
       "\n",
       "    .dataframe thead th {\n",
       "        text-align: right;\n",
       "    }\n",
       "</style>\n",
       "<table border=\"1\" class=\"dataframe\">\n",
       "  <thead>\n",
       "    <tr style=\"text-align: right;\">\n",
       "      <th></th>\n",
       "      <th>Name</th>\n",
       "      <th>Links</th>\n",
       "      <th>Cost</th>\n",
       "      <th>Collections</th>\n",
       "      <th>Cuisines</th>\n",
       "      <th>Timings</th>\n",
       "    </tr>\n",
       "  </thead>\n",
       "  <tbody>\n",
       "    <tr>\n",
       "      <th>0</th>\n",
       "      <td>Beyond Flavours</td>\n",
       "      <td>https://www.zomato.com/hyderabad/beyond-flavou...</td>\n",
       "      <td>800</td>\n",
       "      <td>Food Hygiene Rated Restaurants in Hyderabad, C...</td>\n",
       "      <td>Chinese, Continental, Kebab, European, South I...</td>\n",
       "      <td>12noon to 3:30pm, 6:30pm to 11:30pm (Mon-Sun)</td>\n",
       "    </tr>\n",
       "    <tr>\n",
       "      <th>1</th>\n",
       "      <td>Paradise</td>\n",
       "      <td>https://www.zomato.com/hyderabad/paradise-gach...</td>\n",
       "      <td>800</td>\n",
       "      <td>Hyderabad's Hottest</td>\n",
       "      <td>Biryani, North Indian, Chinese</td>\n",
       "      <td>11 AM to 11 PM</td>\n",
       "    </tr>\n",
       "    <tr>\n",
       "      <th>2</th>\n",
       "      <td>Flechazo</td>\n",
       "      <td>https://www.zomato.com/hyderabad/flechazo-gach...</td>\n",
       "      <td>1,300</td>\n",
       "      <td>Great Buffets, Hyderabad's Hottest</td>\n",
       "      <td>Asian, Mediterranean, North Indian, Desserts</td>\n",
       "      <td>11:30 AM to 4:30 PM, 6:30 PM to 11 PM</td>\n",
       "    </tr>\n",
       "    <tr>\n",
       "      <th>3</th>\n",
       "      <td>Shah Ghouse Hotel &amp; Restaurant</td>\n",
       "      <td>https://www.zomato.com/hyderabad/shah-ghouse-h...</td>\n",
       "      <td>800</td>\n",
       "      <td>Late Night Restaurants</td>\n",
       "      <td>Biryani, North Indian, Chinese, Seafood, Bever...</td>\n",
       "      <td>12 Noon to 2 AM</td>\n",
       "    </tr>\n",
       "    <tr>\n",
       "      <th>4</th>\n",
       "      <td>Over The Moon Brew Company</td>\n",
       "      <td>https://www.zomato.com/hyderabad/over-the-moon...</td>\n",
       "      <td>1,200</td>\n",
       "      <td>Best Bars &amp; Pubs, Food Hygiene Rated Restauran...</td>\n",
       "      <td>Asian, Continental, North Indian, Chinese, Med...</td>\n",
       "      <td>12noon to 11pm (Mon, Tue, Wed, Thu, Sun), 12no...</td>\n",
       "    </tr>\n",
       "  </tbody>\n",
       "</table>\n",
       "</div>"
      ],
      "text/plain": [
       "                             Name  \\\n",
       "0                 Beyond Flavours   \n",
       "1                        Paradise   \n",
       "2                        Flechazo   \n",
       "3  Shah Ghouse Hotel & Restaurant   \n",
       "4      Over The Moon Brew Company   \n",
       "\n",
       "                                               Links   Cost  \\\n",
       "0  https://www.zomato.com/hyderabad/beyond-flavou...    800   \n",
       "1  https://www.zomato.com/hyderabad/paradise-gach...    800   \n",
       "2  https://www.zomato.com/hyderabad/flechazo-gach...  1,300   \n",
       "3  https://www.zomato.com/hyderabad/shah-ghouse-h...    800   \n",
       "4  https://www.zomato.com/hyderabad/over-the-moon...  1,200   \n",
       "\n",
       "                                         Collections  \\\n",
       "0  Food Hygiene Rated Restaurants in Hyderabad, C...   \n",
       "1                                Hyderabad's Hottest   \n",
       "2                 Great Buffets, Hyderabad's Hottest   \n",
       "3                             Late Night Restaurants   \n",
       "4  Best Bars & Pubs, Food Hygiene Rated Restauran...   \n",
       "\n",
       "                                            Cuisines  \\\n",
       "0  Chinese, Continental, Kebab, European, South I...   \n",
       "1                     Biryani, North Indian, Chinese   \n",
       "2       Asian, Mediterranean, North Indian, Desserts   \n",
       "3  Biryani, North Indian, Chinese, Seafood, Bever...   \n",
       "4  Asian, Continental, North Indian, Chinese, Med...   \n",
       "\n",
       "                                             Timings  \n",
       "0      12noon to 3:30pm, 6:30pm to 11:30pm (Mon-Sun)  \n",
       "1                                     11 AM to 11 PM  \n",
       "2              11:30 AM to 4:30 PM, 6:30 PM to 11 PM  \n",
       "3                                    12 Noon to 2 AM  \n",
       "4  12noon to 11pm (Mon, Tue, Wed, Thu, Sun), 12no...  "
      ]
     },
     "execution_count": 3,
     "metadata": {},
     "output_type": "execute_result"
    }
   ],
   "source": [
    "# Dataset First \n",
    "names.head()"
   ]
  },
  {
   "cell_type": "code",
   "execution_count": 4,
   "metadata": {},
   "outputs": [
    {
     "data": {
      "text/html": [
       "<div>\n",
       "<style scoped>\n",
       "    .dataframe tbody tr th:only-of-type {\n",
       "        vertical-align: middle;\n",
       "    }\n",
       "\n",
       "    .dataframe tbody tr th {\n",
       "        vertical-align: top;\n",
       "    }\n",
       "\n",
       "    .dataframe thead th {\n",
       "        text-align: right;\n",
       "    }\n",
       "</style>\n",
       "<table border=\"1\" class=\"dataframe\">\n",
       "  <thead>\n",
       "    <tr style=\"text-align: right;\">\n",
       "      <th></th>\n",
       "      <th>Restaurant</th>\n",
       "      <th>Reviewer</th>\n",
       "      <th>Review</th>\n",
       "      <th>Rating</th>\n",
       "      <th>Metadata</th>\n",
       "      <th>Time</th>\n",
       "      <th>Pictures</th>\n",
       "    </tr>\n",
       "  </thead>\n",
       "  <tbody>\n",
       "    <tr>\n",
       "      <th>0</th>\n",
       "      <td>Beyond Flavours</td>\n",
       "      <td>Rusha Chakraborty</td>\n",
       "      <td>The ambience was good, food was quite good . h...</td>\n",
       "      <td>5</td>\n",
       "      <td>1 Review , 2 Followers</td>\n",
       "      <td>5/25/2019 15:54</td>\n",
       "      <td>0</td>\n",
       "    </tr>\n",
       "    <tr>\n",
       "      <th>1</th>\n",
       "      <td>Beyond Flavours</td>\n",
       "      <td>Anusha Tirumalaneedi</td>\n",
       "      <td>Ambience is too good for a pleasant evening. S...</td>\n",
       "      <td>5</td>\n",
       "      <td>3 Reviews , 2 Followers</td>\n",
       "      <td>5/25/2019 14:20</td>\n",
       "      <td>0</td>\n",
       "    </tr>\n",
       "    <tr>\n",
       "      <th>2</th>\n",
       "      <td>Beyond Flavours</td>\n",
       "      <td>Ashok Shekhawat</td>\n",
       "      <td>A must try.. great food great ambience. Thnx f...</td>\n",
       "      <td>5</td>\n",
       "      <td>2 Reviews , 3 Followers</td>\n",
       "      <td>5/24/2019 22:54</td>\n",
       "      <td>0</td>\n",
       "    </tr>\n",
       "    <tr>\n",
       "      <th>3</th>\n",
       "      <td>Beyond Flavours</td>\n",
       "      <td>Swapnil Sarkar</td>\n",
       "      <td>Soumen das and Arun was a great guy. Only beca...</td>\n",
       "      <td>5</td>\n",
       "      <td>1 Review , 1 Follower</td>\n",
       "      <td>5/24/2019 22:11</td>\n",
       "      <td>0</td>\n",
       "    </tr>\n",
       "    <tr>\n",
       "      <th>4</th>\n",
       "      <td>Beyond Flavours</td>\n",
       "      <td>Dileep</td>\n",
       "      <td>Food is good.we ordered Kodi drumsticks and ba...</td>\n",
       "      <td>5</td>\n",
       "      <td>3 Reviews , 2 Followers</td>\n",
       "      <td>5/24/2019 21:37</td>\n",
       "      <td>0</td>\n",
       "    </tr>\n",
       "  </tbody>\n",
       "</table>\n",
       "</div>"
      ],
      "text/plain": [
       "        Restaurant              Reviewer  \\\n",
       "0  Beyond Flavours     Rusha Chakraborty   \n",
       "1  Beyond Flavours  Anusha Tirumalaneedi   \n",
       "2  Beyond Flavours       Ashok Shekhawat   \n",
       "3  Beyond Flavours        Swapnil Sarkar   \n",
       "4  Beyond Flavours                Dileep   \n",
       "\n",
       "                                              Review Rating  \\\n",
       "0  The ambience was good, food was quite good . h...      5   \n",
       "1  Ambience is too good for a pleasant evening. S...      5   \n",
       "2  A must try.. great food great ambience. Thnx f...      5   \n",
       "3  Soumen das and Arun was a great guy. Only beca...      5   \n",
       "4  Food is good.we ordered Kodi drumsticks and ba...      5   \n",
       "\n",
       "                  Metadata             Time  Pictures  \n",
       "0   1 Review , 2 Followers  5/25/2019 15:54         0  \n",
       "1  3 Reviews , 2 Followers  5/25/2019 14:20         0  \n",
       "2  2 Reviews , 3 Followers  5/24/2019 22:54         0  \n",
       "3    1 Review , 1 Follower  5/24/2019 22:11         0  \n",
       "4  3 Reviews , 2 Followers  5/24/2019 21:37         0  "
      ]
     },
     "execution_count": 4,
     "metadata": {},
     "output_type": "execute_result"
    }
   ],
   "source": [
    "reviews.head()"
   ]
  },
  {
   "cell_type": "markdown",
   "metadata": {
    "id": "7hBIi_osiCS2"
   },
   "source": [
    "### Dataset Rows & Columns count"
   ]
  },
  {
   "cell_type": "code",
   "execution_count": 5,
   "metadata": {
    "id": "Kllu7SJgmLij"
   },
   "outputs": [
    {
     "name": "stdout",
     "output_type": "stream",
     "text": [
      "Names and Metadata count:  (105, 6)\n",
      "Reviews count:  (10000, 7)\n"
     ]
    }
   ],
   "source": [
    "# Dataset Rows & Columns count\n",
    "print(\"Names and Metadata count: \", names.shape)\n",
    "print(\"Reviews count: \", reviews.shape)"
   ]
  },
  {
   "cell_type": "markdown",
   "metadata": {
    "id": "JlHwYmJAmNHm"
   },
   "source": [
    "### Dataset Information"
   ]
  },
  {
   "cell_type": "code",
   "execution_count": 6,
   "metadata": {
    "id": "e9hRXRi6meOf"
   },
   "outputs": [
    {
     "name": "stdout",
     "output_type": "stream",
     "text": [
      "<class 'pandas.core.frame.DataFrame'>\n",
      "RangeIndex: 105 entries, 0 to 104\n",
      "Data columns (total 6 columns):\n",
      " #   Column       Non-Null Count  Dtype \n",
      "---  ------       --------------  ----- \n",
      " 0   Name         105 non-null    object\n",
      " 1   Links        105 non-null    object\n",
      " 2   Cost         105 non-null    object\n",
      " 3   Collections  51 non-null     object\n",
      " 4   Cuisines     105 non-null    object\n",
      " 5   Timings      104 non-null    object\n",
      "dtypes: object(6)\n",
      "memory usage: 5.1+ KB\n"
     ]
    }
   ],
   "source": [
    "# Dataset Info\n",
    "names.info()"
   ]
  },
  {
   "cell_type": "code",
   "execution_count": 7,
   "metadata": {},
   "outputs": [
    {
     "name": "stdout",
     "output_type": "stream",
     "text": [
      "<class 'pandas.core.frame.DataFrame'>\n",
      "RangeIndex: 10000 entries, 0 to 9999\n",
      "Data columns (total 7 columns):\n",
      " #   Column      Non-Null Count  Dtype \n",
      "---  ------      --------------  ----- \n",
      " 0   Restaurant  10000 non-null  object\n",
      " 1   Reviewer    9962 non-null   object\n",
      " 2   Review      9955 non-null   object\n",
      " 3   Rating      9962 non-null   object\n",
      " 4   Metadata    9962 non-null   object\n",
      " 5   Time        9962 non-null   object\n",
      " 6   Pictures    10000 non-null  int64 \n",
      "dtypes: int64(1), object(6)\n",
      "memory usage: 547.0+ KB\n"
     ]
    }
   ],
   "source": [
    "reviews.info()"
   ]
  },
  {
   "cell_type": "code",
   "execution_count": 8,
   "metadata": {},
   "outputs": [
    {
     "name": "stdout",
     "output_type": "stream",
     "text": [
      "100\n"
     ]
    }
   ],
   "source": [
    "print(reviews['Restaurant'].nunique())"
   ]
  },
  {
   "cell_type": "markdown",
   "metadata": {
    "id": "35m5QtbWiB9F"
   },
   "source": [
    "#### Duplicate Values"
   ]
  },
  {
   "cell_type": "code",
   "execution_count": 9,
   "metadata": {
    "id": "1sLdpKYkmox0"
   },
   "outputs": [
    {
     "name": "stdout",
     "output_type": "stream",
     "text": [
      "Duplicated Value Count in Names and Metadata:  0 \n",
      "\n",
      "Duplicated Value Count in Reviews:  36 \n",
      "\n"
     ]
    }
   ],
   "source": [
    "# Dataset Duplicate Value Count\n",
    "print(\"Duplicated Value Count in Names and Metadata: \", names.duplicated().sum(), \"\\n\")\n",
    "print(\"Duplicated Value Count in Reviews: \", reviews.duplicated().sum(), \"\\n\")"
   ]
  },
  {
   "cell_type": "markdown",
   "metadata": {
    "id": "PoPl-ycgm1ru"
   },
   "source": [
    "#### Missing Values/Null Values"
   ]
  },
  {
   "cell_type": "code",
   "execution_count": 10,
   "metadata": {
    "id": "GgHWkxvamxVg"
   },
   "outputs": [
    {
     "name": "stdout",
     "output_type": "stream",
     "text": [
      "Duplicated Value Count in Names and Metadata:  Name            0\n",
      "Links           0\n",
      "Cost            0\n",
      "Collections    54\n",
      "Cuisines        0\n",
      "Timings         1\n",
      "dtype: int64 \n",
      "\n",
      "Duplicated Value Count in Reviews:  Restaurant     0\n",
      "Reviewer      38\n",
      "Review        45\n",
      "Rating        38\n",
      "Metadata      38\n",
      "Time          38\n",
      "Pictures       0\n",
      "dtype: int64 \n",
      "\n"
     ]
    }
   ],
   "source": [
    "# Missing Values/Null Values Count\n",
    "print(\"Duplicated Value Count in Names and Metadata: \", names.isnull().sum(), \"\\n\")\n",
    "print(\"Duplicated Value Count in Reviews: \", reviews.isnull().sum(), \"\\n\")"
   ]
  },
  {
   "cell_type": "code",
   "execution_count": 11,
   "metadata": {
    "id": "3q5wnI3om9sJ"
   },
   "outputs": [
    {
     "data": {
      "image/png": "[encoded data removed]",
      "text/plain": [
       "<Figure size 1200x600 with 1 Axes>"
      ]
     },
     "metadata": {},
     "output_type": "display_data"
    }
   ],
   "source": [
    "# Visualizing the missing values\n",
    "plt.figure(figsize=(12, 6))\n",
    "plt.subplot(1, 2, 1)\n",
    "sns.heatmap(names.isnull(), cbar=False, cmap='viridis')\n",
    "plt.title(\"Missing Values in Names and Titles DataFrame\")\n",
    "\n",
    "plt.tight_layout()\n",
    "plt.show()"
   ]
  },
  {
   "cell_type": "code",
   "execution_count": 12,
   "metadata": {},
   "outputs": [
    {
     "data": {
      "image/png": "[encoded data removed]",
      "text/plain": [
       "<Figure size 1200x600 with 1 Axes>"
      ]
     },
     "metadata": {},
     "output_type": "display_data"
    }
   ],
   "source": [
    "plt.figure(figsize=(12, 6))\n",
    "plt.subplot(1, 2, 1)\n",
    "sns.heatmap(reviews.isnull(), cbar=False, cmap='viridis')\n",
    "plt.title(\"Missing Values in Reviews DataFrame\")\n",
    "\n",
    "plt.tight_layout()\n",
    "plt.show()"
   ]
  },
  {
   "cell_type": "markdown",
   "metadata": {
    "id": "H0kj-8xxnORC"
   },
   "source": [
    "### What did you know about your dataset?"
   ]
  },
  {
   "cell_type": "markdown",
   "metadata": {
    "id": "gfoNAAC-nUe_"
   },
   "source": [
    "Answer Here"
   ]
  },
  {
   "cell_type": "markdown",
   "metadata": {
    "id": "nA9Y7ga8ng1Z"
   },
   "source": [
    "## ***2. Understanding Your Variables***"
   ]
  },
  {
   "cell_type": "code",
   "execution_count": 13,
   "metadata": {
    "id": "j7xfkqrt5Ag5"
   },
   "outputs": [
    {
     "data": {
      "text/plain": [
       "Index(['Name', 'Links', 'Cost', 'Collections', 'Cuisines', 'Timings'], dtype='object')"
      ]
     },
     "execution_count": 13,
     "metadata": {},
     "output_type": "execute_result"
    }
   ],
   "source": [
    "# Dataset Columns\n",
    "names.columns"
   ]
  },
  {
   "cell_type": "code",
   "execution_count": 14,
   "metadata": {},
   "outputs": [
    {
     "data": {
      "text/plain": [
       "Index(['Restaurant', 'Reviewer', 'Review', 'Rating', 'Metadata', 'Time',\n",
       "       'Pictures'],\n",
       "      dtype='object')"
      ]
     },
     "execution_count": 14,
     "metadata": {},
     "output_type": "execute_result"
    }
   ],
   "source": [
    "reviews.columns"
   ]
  },
  {
   "cell_type": "code",
   "execution_count": 15,
   "metadata": {
    "id": "DnOaZdaE5Q5t"
   },
   "outputs": [
    {
     "data": {
      "text/html": [
       "<div>\n",
       "<style scoped>\n",
       "    .dataframe tbody tr th:only-of-type {\n",
       "        vertical-align: middle;\n",
       "    }\n",
       "\n",
       "    .dataframe tbody tr th {\n",
       "        vertical-align: top;\n",
       "    }\n",
       "\n",
       "    .dataframe thead th {\n",
       "        text-align: right;\n",
       "    }\n",
       "</style>\n",
       "<table border=\"1\" class=\"dataframe\">\n",
       "  <thead>\n",
       "    <tr style=\"text-align: right;\">\n",
       "      <th></th>\n",
       "      <th>Name</th>\n",
       "      <th>Links</th>\n",
       "      <th>Cost</th>\n",
       "      <th>Collections</th>\n",
       "      <th>Cuisines</th>\n",
       "      <th>Timings</th>\n",
       "    </tr>\n",
       "  </thead>\n",
       "  <tbody>\n",
       "    <tr>\n",
       "      <th>count</th>\n",
       "      <td>105</td>\n",
       "      <td>105</td>\n",
       "      <td>105</td>\n",
       "      <td>51</td>\n",
       "      <td>105</td>\n",
       "      <td>104</td>\n",
       "    </tr>\n",
       "    <tr>\n",
       "      <th>unique</th>\n",
       "      <td>105</td>\n",
       "      <td>105</td>\n",
       "      <td>29</td>\n",
       "      <td>42</td>\n",
       "      <td>92</td>\n",
       "      <td>77</td>\n",
       "    </tr>\n",
       "    <tr>\n",
       "      <th>top</th>\n",
       "      <td>Beyond Flavours</td>\n",
       "      <td>https://www.zomato.com/hyderabad/beyond-flavou...</td>\n",
       "      <td>500</td>\n",
       "      <td>Food Hygiene Rated Restaurants in Hyderabad</td>\n",
       "      <td>North Indian, Chinese</td>\n",
       "      <td>11 AM to 11 PM</td>\n",
       "    </tr>\n",
       "    <tr>\n",
       "      <th>freq</th>\n",
       "      <td>1</td>\n",
       "      <td>1</td>\n",
       "      <td>13</td>\n",
       "      <td>4</td>\n",
       "      <td>4</td>\n",
       "      <td>6</td>\n",
       "    </tr>\n",
       "  </tbody>\n",
       "</table>\n",
       "</div>"
      ],
      "text/plain": [
       "                   Name                                              Links  \\\n",
       "count               105                                                105   \n",
       "unique              105                                                105   \n",
       "top     Beyond Flavours  https://www.zomato.com/hyderabad/beyond-flavou...   \n",
       "freq                  1                                                  1   \n",
       "\n",
       "       Cost                                  Collections  \\\n",
       "count   105                                           51   \n",
       "unique   29                                           42   \n",
       "top     500  Food Hygiene Rated Restaurants in Hyderabad   \n",
       "freq     13                                            4   \n",
       "\n",
       "                     Cuisines         Timings  \n",
       "count                     105             104  \n",
       "unique                     92              77  \n",
       "top     North Indian, Chinese  11 AM to 11 PM  \n",
       "freq                        4               6  "
      ]
     },
     "execution_count": 15,
     "metadata": {},
     "output_type": "execute_result"
    }
   ],
   "source": [
    "# Dataset Describe\n",
    "names.describe()"
   ]
  },
  {
   "cell_type": "code",
   "execution_count": 16,
   "metadata": {},
   "outputs": [
    {
     "data": {
      "text/html": [
       "<div>\n",
       "<style scoped>\n",
       "    .dataframe tbody tr th:only-of-type {\n",
       "        vertical-align: middle;\n",
       "    }\n",
       "\n",
       "    .dataframe tbody tr th {\n",
       "        vertical-align: top;\n",
       "    }\n",
       "\n",
       "    .dataframe thead th {\n",
       "        text-align: right;\n",
       "    }\n",
       "</style>\n",
       "<table border=\"1\" class=\"dataframe\">\n",
       "  <thead>\n",
       "    <tr style=\"text-align: right;\">\n",
       "      <th></th>\n",
       "      <th>Pictures</th>\n",
       "    </tr>\n",
       "  </thead>\n",
       "  <tbody>\n",
       "    <tr>\n",
       "      <th>count</th>\n",
       "      <td>10000.000000</td>\n",
       "    </tr>\n",
       "    <tr>\n",
       "      <th>mean</th>\n",
       "      <td>0.748600</td>\n",
       "    </tr>\n",
       "    <tr>\n",
       "      <th>std</th>\n",
       "      <td>2.570381</td>\n",
       "    </tr>\n",
       "    <tr>\n",
       "      <th>min</th>\n",
       "      <td>0.000000</td>\n",
       "    </tr>\n",
       "    <tr>\n",
       "      <th>25%</th>\n",
       "      <td>0.000000</td>\n",
       "    </tr>\n",
       "    <tr>\n",
       "      <th>50%</th>\n",
       "      <td>0.000000</td>\n",
       "    </tr>\n",
       "    <tr>\n",
       "      <th>75%</th>\n",
       "      <td>0.000000</td>\n",
       "    </tr>\n",
       "    <tr>\n",
       "      <th>max</th>\n",
       "      <td>64.000000</td>\n",
       "    </tr>\n",
       "  </tbody>\n",
       "</table>\n",
       "</div>"
      ],
      "text/plain": [
       "           Pictures\n",
       "count  10000.000000\n",
       "mean       0.748600\n",
       "std        2.570381\n",
       "min        0.000000\n",
       "25%        0.000000\n",
       "50%        0.000000\n",
       "75%        0.000000\n",
       "max       64.000000"
      ]
     },
     "execution_count": 16,
     "metadata": {},
     "output_type": "execute_result"
    }
   ],
   "source": [
    "reviews.describe()"
   ]
  },
  {
   "cell_type": "markdown",
   "metadata": {
    "id": "PBTbrJXOngz2"
   },
   "source": [
    "### Variables Description"
   ]
  },
  {
   "cell_type": "markdown",
   "metadata": {
    "id": "aJV4KIxSnxay"
   },
   "source": [
    "Answer Here"
   ]
  },
  {
   "cell_type": "markdown",
   "metadata": {
    "id": "u3PMJOP6ngxN"
   },
   "source": [
    "### Check Unique Values for each variable."
   ]
  },
  {
   "cell_type": "code",
   "execution_count": 17,
   "metadata": {
    "id": "zms12Yq5n-jE"
   },
   "outputs": [
    {
     "data": {
      "text/plain": [
       "Name           105\n",
       "Links          105\n",
       "Cost            29\n",
       "Collections     42\n",
       "Cuisines        92\n",
       "Timings         77\n",
       "dtype: int64"
      ]
     },
     "execution_count": 17,
     "metadata": {},
     "output_type": "execute_result"
    }
   ],
   "source": [
    "# Check Unique Values for each variable.\n",
    "names.nunique()"
   ]
  },
  {
   "cell_type": "code",
   "execution_count": 18,
   "metadata": {},
   "outputs": [
    {
     "data": {
      "text/plain": [
       "Restaurant     100\n",
       "Reviewer      7446\n",
       "Review        9364\n",
       "Rating          10\n",
       "Metadata      2477\n",
       "Time          9782\n",
       "Pictures        36\n",
       "dtype: int64"
      ]
     },
     "execution_count": 18,
     "metadata": {},
     "output_type": "execute_result"
    }
   ],
   "source": [
    "reviews.nunique()"
   ]
  },
  {
   "cell_type": "markdown",
   "metadata": {
    "id": "dauF4eBmngu3"
   },
   "source": [
    "## 3. ***Data Wrangling***"
   ]
  },
  {
   "cell_type": "markdown",
   "metadata": {
    "id": "bKJF3rekwFvQ"
   },
   "source": [
    "### Data Wrangling Code"
   ]
  },
  {
   "cell_type": "code",
   "execution_count": 19,
   "metadata": {},
   "outputs": [
    {
     "data": {
      "text/html": [
       "<div>\n",
       "<style scoped>\n",
       "    .dataframe tbody tr th:only-of-type {\n",
       "        vertical-align: middle;\n",
       "    }\n",
       "\n",
       "    .dataframe tbody tr th {\n",
       "        vertical-align: top;\n",
       "    }\n",
       "\n",
       "    .dataframe thead th {\n",
       "        text-align: right;\n",
       "    }\n",
       "</style>\n",
       "<table border=\"1\" class=\"dataframe\">\n",
       "  <thead>\n",
       "    <tr style=\"text-align: right;\">\n",
       "      <th></th>\n",
       "      <th>Restaurant</th>\n",
       "      <th>Reviewer</th>\n",
       "      <th>Review</th>\n",
       "      <th>Rating</th>\n",
       "      <th>Metadata</th>\n",
       "      <th>Time</th>\n",
       "      <th>Pictures</th>\n",
       "    </tr>\n",
       "  </thead>\n",
       "  <tbody>\n",
       "    <tr>\n",
       "      <th>0</th>\n",
       "      <td>Beyond Flavours</td>\n",
       "      <td>Rusha Chakraborty</td>\n",
       "      <td>The ambience was good, food was quite good . h...</td>\n",
       "      <td>5</td>\n",
       "      <td>1 Review , 2 Followers</td>\n",
       "      <td>5/25/2019 15:54</td>\n",
       "      <td>0</td>\n",
       "    </tr>\n",
       "    <tr>\n",
       "      <th>1</th>\n",
       "      <td>Beyond Flavours</td>\n",
       "      <td>Anusha Tirumalaneedi</td>\n",
       "      <td>Ambience is too good for a pleasant evening. S...</td>\n",
       "      <td>5</td>\n",
       "      <td>3 Reviews , 2 Followers</td>\n",
       "      <td>5/25/2019 14:20</td>\n",
       "      <td>0</td>\n",
       "    </tr>\n",
       "    <tr>\n",
       "      <th>2</th>\n",
       "      <td>Beyond Flavours</td>\n",
       "      <td>Ashok Shekhawat</td>\n",
       "      <td>A must try.. great food great ambience. Thnx f...</td>\n",
       "      <td>5</td>\n",
       "      <td>2 Reviews , 3 Followers</td>\n",
       "      <td>5/24/2019 22:54</td>\n",
       "      <td>0</td>\n",
       "    </tr>\n",
       "    <tr>\n",
       "      <th>3</th>\n",
       "      <td>Beyond Flavours</td>\n",
       "      <td>Swapnil Sarkar</td>\n",
       "      <td>Soumen das and Arun was a great guy. Only beca...</td>\n",
       "      <td>5</td>\n",
       "      <td>1 Review , 1 Follower</td>\n",
       "      <td>5/24/2019 22:11</td>\n",
       "      <td>0</td>\n",
       "    </tr>\n",
       "    <tr>\n",
       "      <th>4</th>\n",
       "      <td>Beyond Flavours</td>\n",
       "      <td>Dileep</td>\n",
       "      <td>Food is good.we ordered Kodi drumsticks and ba...</td>\n",
       "      <td>5</td>\n",
       "      <td>3 Reviews , 2 Followers</td>\n",
       "      <td>5/24/2019 21:37</td>\n",
       "      <td>0</td>\n",
       "    </tr>\n",
       "  </tbody>\n",
       "</table>\n",
       "</div>"
      ],
      "text/plain": [
       "        Restaurant              Reviewer  \\\n",
       "0  Beyond Flavours     Rusha Chakraborty   \n",
       "1  Beyond Flavours  Anusha Tirumalaneedi   \n",
       "2  Beyond Flavours       Ashok Shekhawat   \n",
       "3  Beyond Flavours        Swapnil Sarkar   \n",
       "4  Beyond Flavours                Dileep   \n",
       "\n",
       "                                              Review Rating  \\\n",
       "0  The ambience was good, food was quite good . h...      5   \n",
       "1  Ambience is too good for a pleasant evening. S...      5   \n",
       "2  A must try.. great food great ambience. Thnx f...      5   \n",
       "3  Soumen das and Arun was a great guy. Only beca...      5   \n",
       "4  Food is good.we ordered Kodi drumsticks and ba...      5   \n",
       "\n",
       "                  Metadata             Time  Pictures  \n",
       "0   1 Review , 2 Followers  5/25/2019 15:54         0  \n",
       "1  3 Reviews , 2 Followers  5/25/2019 14:20         0  \n",
       "2  2 Reviews , 3 Followers  5/24/2019 22:54         0  \n",
       "3    1 Review , 1 Follower  5/24/2019 22:11         0  \n",
       "4  3 Reviews , 2 Followers  5/24/2019 21:37         0  "
      ]
     },
     "execution_count": 19,
     "metadata": {},
     "output_type": "execute_result"
    }
   ],
   "source": [
    "reviews.head()"
   ]
  },
  {
   "cell_type": "code",
   "execution_count": 20,
   "metadata": {
    "id": "wk-9a2fpoLcV"
   },
   "outputs": [
    {
     "name": "stderr",
     "output_type": "stream",
     "text": [
      "/var/folders/vf/64r8j3px5m7_0cwl_br4gt2c0000gn/T/ipykernel_27041/2888109555.py:8: FutureWarning: A value is trying to be set on a copy of a DataFrame or Series through chained assignment using an inplace method.\n",
      "The behavior will change in pandas 3.0. This inplace method will never work because the intermediate object on which we are setting values always behaves as a copy.\n",
      "\n",
      "For example, when doing 'df[col].method(value, inplace=True)', try using 'df.method({col: value}, inplace=True)' or df[col] = df[col].method(value) instead, to perform the operation inplace on the original object.\n",
      "\n",
      "\n",
      "  names['Collections'].fillna('No Collections Available', inplace=True)\n",
      "/var/folders/vf/64r8j3px5m7_0cwl_br4gt2c0000gn/T/ipykernel_27041/2888109555.py:14: FutureWarning: A value is trying to be set on a copy of a DataFrame or Series through chained assignment using an inplace method.\n",
      "The behavior will change in pandas 3.0. This inplace method will never work because the intermediate object on which we are setting values always behaves as a copy.\n",
      "\n",
      "For example, when doing 'df[col].method(value, inplace=True)', try using 'df.method({col: value}, inplace=True)' or df[col] = df[col].method(value) instead, to perform the operation inplace on the original object.\n",
      "\n",
      "\n",
      "  names['Timings'].fillna(\"Unknown\", inplace=True)\n"
     ]
    }
   ],
   "source": [
    "# Write your code to make your dataset analysis ready.\n",
    "# Remove non-numeric rating values\n",
    "# reviews = reviews[reviews['Rating'] != 'Like']\n",
    "# Remove non-numeric rating values\n",
    "reviews = reviews[reviews['Rating'] != 'Like']\n",
    "\n",
    "# Fill missing values in 'Collections' column\n",
    "names['Collections'].fillna('No Collections Available', inplace=True)\n",
    "\n",
    "# Drop rows where the 'Review' column is null\n",
    "reviews.dropna(subset=['Review'], inplace=True)\n",
    "\n",
    "# Fill missing values in 'Timings' column\n",
    "names['Timings'].fillna(\"Unknown\", inplace=True)\n",
    "\n",
    "# Remove duplicate reviews\n",
    "reviews.drop_duplicates(keep='first', inplace=True)\n"
   ]
  },
  {
   "cell_type": "code",
   "execution_count": 21,
   "metadata": {},
   "outputs": [
    {
     "name": "stdout",
     "output_type": "stream",
     "text": [
      "Duplicated Value Count in Names and Metadata:  0 \n",
      "\n",
      "Duplicated Value Count in Reviews:  0 \n",
      "\n"
     ]
    }
   ],
   "source": [
    "print(\"Duplicated Value Count in Names and Metadata: \", names.duplicated().sum(), \"\\n\")\n",
    "print(\"Duplicated Value Count in Reviews: \", reviews.duplicated().sum(), \"\\n\")"
   ]
  },
  {
   "cell_type": "code",
   "execution_count": 22,
   "metadata": {},
   "outputs": [
    {
     "data": {
      "text/html": [
       "<div>\n",
       "<style scoped>\n",
       "    .dataframe tbody tr th:only-of-type {\n",
       "        vertical-align: middle;\n",
       "    }\n",
       "\n",
       "    .dataframe tbody tr th {\n",
       "        vertical-align: top;\n",
       "    }\n",
       "\n",
       "    .dataframe thead th {\n",
       "        text-align: right;\n",
       "    }\n",
       "</style>\n",
       "<table border=\"1\" class=\"dataframe\">\n",
       "  <thead>\n",
       "    <tr style=\"text-align: right;\">\n",
       "      <th></th>\n",
       "      <th>Restaurant</th>\n",
       "      <th>Reviewer</th>\n",
       "      <th>Review</th>\n",
       "      <th>Metadata</th>\n",
       "      <th>Time</th>\n",
       "      <th>Pictures</th>\n",
       "      <th>average_rating</th>\n",
       "    </tr>\n",
       "  </thead>\n",
       "  <tbody>\n",
       "    <tr>\n",
       "      <th>0</th>\n",
       "      <td>Beyond Flavours</td>\n",
       "      <td>Rusha Chakraborty</td>\n",
       "      <td>The ambience was good, food was quite good . h...</td>\n",
       "      <td>1 Review , 2 Followers</td>\n",
       "      <td>5/25/2019 15:54</td>\n",
       "      <td>0</td>\n",
       "      <td>4.280</td>\n",
       "    </tr>\n",
       "    <tr>\n",
       "      <th>1</th>\n",
       "      <td>Beyond Flavours</td>\n",
       "      <td>Anusha Tirumalaneedi</td>\n",
       "      <td>Ambience is too good for a pleasant evening. S...</td>\n",
       "      <td>3 Reviews , 2 Followers</td>\n",
       "      <td>5/25/2019 14:20</td>\n",
       "      <td>0</td>\n",
       "      <td>4.280</td>\n",
       "    </tr>\n",
       "    <tr>\n",
       "      <th>2</th>\n",
       "      <td>Beyond Flavours</td>\n",
       "      <td>Ashok Shekhawat</td>\n",
       "      <td>A must try.. great food great ambience. Thnx f...</td>\n",
       "      <td>2 Reviews , 3 Followers</td>\n",
       "      <td>5/24/2019 22:54</td>\n",
       "      <td>0</td>\n",
       "      <td>4.280</td>\n",
       "    </tr>\n",
       "    <tr>\n",
       "      <th>3</th>\n",
       "      <td>Beyond Flavours</td>\n",
       "      <td>Swapnil Sarkar</td>\n",
       "      <td>Soumen das and Arun was a great guy. Only beca...</td>\n",
       "      <td>1 Review , 1 Follower</td>\n",
       "      <td>5/24/2019 22:11</td>\n",
       "      <td>0</td>\n",
       "      <td>4.280</td>\n",
       "    </tr>\n",
       "    <tr>\n",
       "      <th>4</th>\n",
       "      <td>Beyond Flavours</td>\n",
       "      <td>Dileep</td>\n",
       "      <td>Food is good.we ordered Kodi drumsticks and ba...</td>\n",
       "      <td>3 Reviews , 2 Followers</td>\n",
       "      <td>5/24/2019 21:37</td>\n",
       "      <td>0</td>\n",
       "      <td>4.280</td>\n",
       "    </tr>\n",
       "    <tr>\n",
       "      <th>...</th>\n",
       "      <td>...</td>\n",
       "      <td>...</td>\n",
       "      <td>...</td>\n",
       "      <td>...</td>\n",
       "      <td>...</td>\n",
       "      <td>...</td>\n",
       "      <td>...</td>\n",
       "    </tr>\n",
       "    <tr>\n",
       "      <th>9995</th>\n",
       "      <td>Chinese Pavilion</td>\n",
       "      <td>Abhishek Mahajan</td>\n",
       "      <td>Madhumathi Mahajan Well to start with nice cou...</td>\n",
       "      <td>53 Reviews , 54 Followers</td>\n",
       "      <td>6/5/2016 0:08</td>\n",
       "      <td>0</td>\n",
       "      <td>3.745</td>\n",
       "    </tr>\n",
       "    <tr>\n",
       "      <th>9996</th>\n",
       "      <td>Chinese Pavilion</td>\n",
       "      <td>Sharad Agrawal</td>\n",
       "      <td>This place has never disappointed us.. The foo...</td>\n",
       "      <td>2 Reviews , 53 Followers</td>\n",
       "      <td>6/4/2016 22:01</td>\n",
       "      <td>0</td>\n",
       "      <td>3.745</td>\n",
       "    </tr>\n",
       "    <tr>\n",
       "      <th>9997</th>\n",
       "      <td>Chinese Pavilion</td>\n",
       "      <td>Ramandeep</td>\n",
       "      <td>Bad rating is mainly because of \"Chicken Bone ...</td>\n",
       "      <td>65 Reviews , 423 Followers</td>\n",
       "      <td>6/3/2016 10:37</td>\n",
       "      <td>3</td>\n",
       "      <td>3.745</td>\n",
       "    </tr>\n",
       "    <tr>\n",
       "      <th>9998</th>\n",
       "      <td>Chinese Pavilion</td>\n",
       "      <td>Nayana Shanbhag</td>\n",
       "      <td>I personally love and prefer Chinese Food. Had...</td>\n",
       "      <td>13 Reviews , 144 Followers</td>\n",
       "      <td>5/31/2016 17:22</td>\n",
       "      <td>0</td>\n",
       "      <td>3.745</td>\n",
       "    </tr>\n",
       "    <tr>\n",
       "      <th>9999</th>\n",
       "      <td>Chinese Pavilion</td>\n",
       "      <td>Bhargava Krishna</td>\n",
       "      <td>Checked in here to try some delicious chinese ...</td>\n",
       "      <td>472 Reviews , 1302 Followers</td>\n",
       "      <td>5/31/2016 16:41</td>\n",
       "      <td>6</td>\n",
       "      <td>3.745</td>\n",
       "    </tr>\n",
       "  </tbody>\n",
       "</table>\n",
       "<p>9954 rows × 7 columns</p>\n",
       "</div>"
      ],
      "text/plain": [
       "            Restaurant              Reviewer  \\\n",
       "0      Beyond Flavours     Rusha Chakraborty   \n",
       "1      Beyond Flavours  Anusha Tirumalaneedi   \n",
       "2      Beyond Flavours       Ashok Shekhawat   \n",
       "3      Beyond Flavours        Swapnil Sarkar   \n",
       "4      Beyond Flavours                Dileep   \n",
       "...                ...                   ...   \n",
       "9995  Chinese Pavilion      Abhishek Mahajan   \n",
       "9996  Chinese Pavilion        Sharad Agrawal   \n",
       "9997  Chinese Pavilion             Ramandeep   \n",
       "9998  Chinese Pavilion       Nayana Shanbhag   \n",
       "9999  Chinese Pavilion      Bhargava Krishna   \n",
       "\n",
       "                                                 Review  \\\n",
       "0     The ambience was good, food was quite good . h...   \n",
       "1     Ambience is too good for a pleasant evening. S...   \n",
       "2     A must try.. great food great ambience. Thnx f...   \n",
       "3     Soumen das and Arun was a great guy. Only beca...   \n",
       "4     Food is good.we ordered Kodi drumsticks and ba...   \n",
       "...                                                 ...   \n",
       "9995  Madhumathi Mahajan Well to start with nice cou...   \n",
       "9996  This place has never disappointed us.. The foo...   \n",
       "9997  Bad rating is mainly because of \"Chicken Bone ...   \n",
       "9998  I personally love and prefer Chinese Food. Had...   \n",
       "9999  Checked in here to try some delicious chinese ...   \n",
       "\n",
       "                          Metadata             Time  Pictures  average_rating  \n",
       "0           1 Review , 2 Followers  5/25/2019 15:54         0           4.280  \n",
       "1          3 Reviews , 2 Followers  5/25/2019 14:20         0           4.280  \n",
       "2          2 Reviews , 3 Followers  5/24/2019 22:54         0           4.280  \n",
       "3            1 Review , 1 Follower  5/24/2019 22:11         0           4.280  \n",
       "4          3 Reviews , 2 Followers  5/24/2019 21:37         0           4.280  \n",
       "...                            ...              ...       ...             ...  \n",
       "9995     53 Reviews , 54 Followers    6/5/2016 0:08         0           3.745  \n",
       "9996      2 Reviews , 53 Followers   6/4/2016 22:01         0           3.745  \n",
       "9997    65 Reviews , 423 Followers   6/3/2016 10:37         3           3.745  \n",
       "9998    13 Reviews , 144 Followers  5/31/2016 17:22         0           3.745  \n",
       "9999  472 Reviews , 1302 Followers  5/31/2016 16:41         6           3.745  \n",
       "\n",
       "[9954 rows x 7 columns]"
      ]
     },
     "execution_count": 22,
     "metadata": {},
     "output_type": "execute_result"
    }
   ],
   "source": [
    "reviews['Rating'] = pd.to_numeric(reviews['Rating'], errors='coerce')\n",
    "\n",
    "# Calculate the average rating per restaurant\n",
    "average_ratings = reviews.groupby('Restaurant')['Rating'].mean()\n",
    "\n",
    "# Merge the average ratings back into the original DataFrame\n",
    "reviews['average_rating'] = reviews['Restaurant'].map(average_ratings)\n",
    "\n",
    "reviews.head()\n",
    "reviews.drop(\"Rating\", axis = 1)"
   ]
  },
  {
   "cell_type": "code",
   "execution_count": 23,
   "metadata": {},
   "outputs": [],
   "source": [
    "aggregated_reviews = reviews.groupby('Restaurant').agg({\n",
    "    'Reviewer': lambda x: ', '.join(x.unique()),  # Combine unique reviewer names\n",
    "    'Review': lambda x: ' || '.join(x.dropna()),  # Concatenate reviews, handling NaNs\n",
    "    'Rating': 'mean',  # Average rating for the restaurant\n",
    "    'Pictures': 'max',\n",
    "    'Time': 'min'  # Earliest review time (or max for latest)\n",
    "}).reset_index()"
   ]
  },
  {
   "cell_type": "code",
   "execution_count": 24,
   "metadata": {},
   "outputs": [],
   "source": [
    "aggregated_reviews.rename(columns={'Restaurant': 'Name', 'Time': 'earliest_review'}, inplace=True)"
   ]
  },
  {
   "cell_type": "code",
   "execution_count": 25,
   "metadata": {},
   "outputs": [
    {
     "data": {
      "text/html": [
       "<div>\n",
       "<style scoped>\n",
       "    .dataframe tbody tr th:only-of-type {\n",
       "        vertical-align: middle;\n",
       "    }\n",
       "\n",
       "    .dataframe tbody tr th {\n",
       "        vertical-align: top;\n",
       "    }\n",
       "\n",
       "    .dataframe thead th {\n",
       "        text-align: right;\n",
       "    }\n",
       "</style>\n",
       "<table border=\"1\" class=\"dataframe\">\n",
       "  <thead>\n",
       "    <tr style=\"text-align: right;\">\n",
       "      <th></th>\n",
       "      <th>Name</th>\n",
       "      <th>Reviewer</th>\n",
       "      <th>Review</th>\n",
       "      <th>Rating</th>\n",
       "      <th>Pictures</th>\n",
       "      <th>earliest_review</th>\n",
       "    </tr>\n",
       "  </thead>\n",
       "  <tbody>\n",
       "    <tr>\n",
       "      <th>0</th>\n",
       "      <td>10 Downing Street</td>\n",
       "      <td>Smrati Saxena, Jayaprakash Reddy, Ram K, Shrut...</td>\n",
       "      <td>I've been to this place about two times and i ...</td>\n",
       "      <td>3.80</td>\n",
       "      <td>11</td>\n",
       "      <td>1/13/2019 20:54</td>\n",
       "    </tr>\n",
       "    <tr>\n",
       "      <th>1</th>\n",
       "      <td>13 Dhaba</td>\n",
       "      <td>Sarika, Ankur, Kumar Ajay, Henna Mittal, Yoges...</td>\n",
       "      <td>I didn't go and eat at the Dhaba.\\nI had order...</td>\n",
       "      <td>3.48</td>\n",
       "      <td>6</td>\n",
       "      <td>1/1/2019 15:13</td>\n",
       "    </tr>\n",
       "    <tr>\n",
       "      <th>2</th>\n",
       "      <td>3B's - Buddies, Bar &amp; Barbecue</td>\n",
       "      <td>Kairamkonda Saikiran, Saiswapnil, Naveen, K Pr...</td>\n",
       "      <td>We go their for a team dinner.The name of the ...</td>\n",
       "      <td>4.76</td>\n",
       "      <td>3</td>\n",
       "      <td>4/15/2019 20:44</td>\n",
       "    </tr>\n",
       "    <tr>\n",
       "      <th>3</th>\n",
       "      <td>AB's - Absolute Barbecues</td>\n",
       "      <td>Brave Stone, Ajayreddy Singireddy, Monika Pand...</td>\n",
       "      <td>It was excellent experience spiced thank Krish...</td>\n",
       "      <td>4.88</td>\n",
       "      <td>10</td>\n",
       "      <td>5/10/2019 22:55</td>\n",
       "    </tr>\n",
       "    <tr>\n",
       "      <th>4</th>\n",
       "      <td>Absolute Sizzlers</td>\n",
       "      <td>Arun Sharma, Pallavi Mitra, Avi Ranjan, Raju, ...</td>\n",
       "      <td>Service was pathetic. Ordered a sizzler with l...</td>\n",
       "      <td>3.62</td>\n",
       "      <td>22</td>\n",
       "      <td>2/23/2019 23:55</td>\n",
       "    </tr>\n",
       "  </tbody>\n",
       "</table>\n",
       "</div>"
      ],
      "text/plain": [
       "                             Name  \\\n",
       "0               10 Downing Street   \n",
       "1                        13 Dhaba   \n",
       "2  3B's - Buddies, Bar & Barbecue   \n",
       "3       AB's - Absolute Barbecues   \n",
       "4               Absolute Sizzlers   \n",
       "\n",
       "                                            Reviewer  \\\n",
       "0  Smrati Saxena, Jayaprakash Reddy, Ram K, Shrut...   \n",
       "1  Sarika, Ankur, Kumar Ajay, Henna Mittal, Yoges...   \n",
       "2  Kairamkonda Saikiran, Saiswapnil, Naveen, K Pr...   \n",
       "3  Brave Stone, Ajayreddy Singireddy, Monika Pand...   \n",
       "4  Arun Sharma, Pallavi Mitra, Avi Ranjan, Raju, ...   \n",
       "\n",
       "                                              Review  Rating  Pictures  \\\n",
       "0  I've been to this place about two times and i ...    3.80        11   \n",
       "1  I didn't go and eat at the Dhaba.\\nI had order...    3.48         6   \n",
       "2  We go their for a team dinner.The name of the ...    4.76         3   \n",
       "3  It was excellent experience spiced thank Krish...    4.88        10   \n",
       "4  Service was pathetic. Ordered a sizzler with l...    3.62        22   \n",
       "\n",
       "   earliest_review  \n",
       "0  1/13/2019 20:54  \n",
       "1   1/1/2019 15:13  \n",
       "2  4/15/2019 20:44  \n",
       "3  5/10/2019 22:55  \n",
       "4  2/23/2019 23:55  "
      ]
     },
     "execution_count": 25,
     "metadata": {},
     "output_type": "execute_result"
    }
   ],
   "source": [
    "aggregated_reviews.head()"
   ]
  },
  {
   "cell_type": "code",
   "execution_count": 26,
   "metadata": {},
   "outputs": [],
   "source": [
    "df = names.merge(aggregated_reviews, on='Name', how='left')"
   ]
  },
  {
   "cell_type": "code",
   "execution_count": 27,
   "metadata": {},
   "outputs": [
    {
     "data": {
      "text/html": [
       "<div>\n",
       "<style scoped>\n",
       "    .dataframe tbody tr th:only-of-type {\n",
       "        vertical-align: middle;\n",
       "    }\n",
       "\n",
       "    .dataframe tbody tr th {\n",
       "        vertical-align: top;\n",
       "    }\n",
       "\n",
       "    .dataframe thead th {\n",
       "        text-align: right;\n",
       "    }\n",
       "</style>\n",
       "<table border=\"1\" class=\"dataframe\">\n",
       "  <thead>\n",
       "    <tr style=\"text-align: right;\">\n",
       "      <th></th>\n",
       "      <th>Name</th>\n",
       "      <th>Links</th>\n",
       "      <th>Cost</th>\n",
       "      <th>Collections</th>\n",
       "      <th>Cuisines</th>\n",
       "      <th>Timings</th>\n",
       "      <th>Reviewer</th>\n",
       "      <th>Review</th>\n",
       "      <th>Rating</th>\n",
       "      <th>earliest_review</th>\n",
       "    </tr>\n",
       "  </thead>\n",
       "  <tbody>\n",
       "    <tr>\n",
       "      <th>0</th>\n",
       "      <td>Beyond Flavours</td>\n",
       "      <td>https://www.zomato.com/hyderabad/beyond-flavou...</td>\n",
       "      <td>800</td>\n",
       "      <td>Food Hygiene Rated Restaurants in Hyderabad, C...</td>\n",
       "      <td>Chinese, Continental, Kebab, European, South I...</td>\n",
       "      <td>12noon to 3:30pm, 6:30pm to 11:30pm (Mon-Sun)</td>\n",
       "      <td>Rusha Chakraborty, Anusha Tirumalaneedi, Ashok...</td>\n",
       "      <td>The ambience was good, food was quite good . h...</td>\n",
       "      <td>4.28</td>\n",
       "      <td>5/10/2019 23:24</td>\n",
       "    </tr>\n",
       "    <tr>\n",
       "      <th>1</th>\n",
       "      <td>Paradise</td>\n",
       "      <td>https://www.zomato.com/hyderabad/paradise-gach...</td>\n",
       "      <td>800</td>\n",
       "      <td>Hyderabad's Hottest</td>\n",
       "      <td>Biryani, North Indian, Chinese</td>\n",
       "      <td>11 AM to 11 PM</td>\n",
       "      <td>Subodh Deshmukh, BIBHU BHUSHAN SINHA, Behara V...</td>\n",
       "      <td>Paradise Biryani is really good service also g...</td>\n",
       "      <td>4.70</td>\n",
       "      <td>5/10/2019 21:35</td>\n",
       "    </tr>\n",
       "    <tr>\n",
       "      <th>2</th>\n",
       "      <td>Flechazo</td>\n",
       "      <td>https://www.zomato.com/hyderabad/flechazo-gach...</td>\n",
       "      <td>1,300</td>\n",
       "      <td>Great Buffets, Hyderabad's Hottest</td>\n",
       "      <td>Asian, Mediterranean, North Indian, Desserts</td>\n",
       "      <td>11:30 AM to 4:30 PM, 6:30 PM to 11 PM</td>\n",
       "      <td>Vivek Vuppala, Jalaj Goyal, Teju Winni, Karthi...</td>\n",
       "      <td>We were 4 people who visited this place on Thu...</td>\n",
       "      <td>4.66</td>\n",
       "      <td>4/20/2019 15:40</td>\n",
       "    </tr>\n",
       "    <tr>\n",
       "      <th>3</th>\n",
       "      <td>Shah Ghouse Hotel &amp; Restaurant</td>\n",
       "      <td>https://www.zomato.com/hyderabad/shah-ghouse-h...</td>\n",
       "      <td>800</td>\n",
       "      <td>Late Night Restaurants</td>\n",
       "      <td>Biryani, North Indian, Chinese, Seafood, Bever...</td>\n",
       "      <td>12 Noon to 2 AM</td>\n",
       "      <td>Ashwi Sharma, Dasthagir Shaik, Ram Chowdary, A...</td>\n",
       "      <td>Haleem, the best place to try out.\\nAvaialble ...</td>\n",
       "      <td>3.21</td>\n",
       "      <td>3/10/2019 13:35</td>\n",
       "    </tr>\n",
       "    <tr>\n",
       "      <th>4</th>\n",
       "      <td>Over The Moon Brew Company</td>\n",
       "      <td>https://www.zomato.com/hyderabad/over-the-moon...</td>\n",
       "      <td>1,200</td>\n",
       "      <td>Best Bars &amp; Pubs, Food Hygiene Rated Restauran...</td>\n",
       "      <td>Asian, Continental, North Indian, Chinese, Med...</td>\n",
       "      <td>12noon to 11pm (Mon, Tue, Wed, Thu, Sun), 12no...</td>\n",
       "      <td>Joel Coelho, Elizabeth Thomas, Piyush Singhal,...</td>\n",
       "      <td>Great ambience, met an excellent man - Sarbesh...</td>\n",
       "      <td>4.34</td>\n",
       "      <td>4/24/2019 23:34</td>\n",
       "    </tr>\n",
       "    <tr>\n",
       "      <th>...</th>\n",
       "      <td>...</td>\n",
       "      <td>...</td>\n",
       "      <td>...</td>\n",
       "      <td>...</td>\n",
       "      <td>...</td>\n",
       "      <td>...</td>\n",
       "      <td>...</td>\n",
       "      <td>...</td>\n",
       "      <td>...</td>\n",
       "      <td>...</td>\n",
       "    </tr>\n",
       "    <tr>\n",
       "      <th>100</th>\n",
       "      <td>IndiBlaze</td>\n",
       "      <td>https://www.zomato.com/hyderabad/indiblaze-gac...</td>\n",
       "      <td>600</td>\n",
       "      <td>No Collections Available</td>\n",
       "      <td>Fast Food, Salad</td>\n",
       "      <td>11 AM to 11 PM</td>\n",
       "      <td>NaN</td>\n",
       "      <td>NaN</td>\n",
       "      <td>NaN</td>\n",
       "      <td>NaN</td>\n",
       "    </tr>\n",
       "    <tr>\n",
       "      <th>101</th>\n",
       "      <td>Sweet Basket</td>\n",
       "      <td>https://www.zomato.com/hyderabad/sweet-basket-...</td>\n",
       "      <td>200</td>\n",
       "      <td>No Collections Available</td>\n",
       "      <td>Bakery, Mithai</td>\n",
       "      <td>10 AM to 10 PM (Mon-Thu), 8 AM to 10:30 PM (Fr...</td>\n",
       "      <td>NaN</td>\n",
       "      <td>NaN</td>\n",
       "      <td>NaN</td>\n",
       "      <td>NaN</td>\n",
       "    </tr>\n",
       "    <tr>\n",
       "      <th>102</th>\n",
       "      <td>Angaara Counts 3</td>\n",
       "      <td>https://www.zomato.com/hyderabad/angaara-count...</td>\n",
       "      <td>500</td>\n",
       "      <td>No Collections Available</td>\n",
       "      <td>North Indian, Biryani, Chinese</td>\n",
       "      <td>12 Noon to 11 PM</td>\n",
       "      <td>NaN</td>\n",
       "      <td>NaN</td>\n",
       "      <td>NaN</td>\n",
       "      <td>NaN</td>\n",
       "    </tr>\n",
       "    <tr>\n",
       "      <th>103</th>\n",
       "      <td>Wich Please</td>\n",
       "      <td>https://www.zomato.com/hyderabad/wich-please-1...</td>\n",
       "      <td>250</td>\n",
       "      <td>No Collections Available</td>\n",
       "      <td>Fast Food</td>\n",
       "      <td>8am to 12:30AM (Mon-Sun)</td>\n",
       "      <td>NaN</td>\n",
       "      <td>NaN</td>\n",
       "      <td>NaN</td>\n",
       "      <td>NaN</td>\n",
       "    </tr>\n",
       "    <tr>\n",
       "      <th>104</th>\n",
       "      <td>Republic Of Noodles - Lemon Tree Hotel</td>\n",
       "      <td>https://www.zomato.com/hyderabad/republic-of-n...</td>\n",
       "      <td>1,700</td>\n",
       "      <td>Pan-Asian Delicacies</td>\n",
       "      <td>Thai, Asian, Chinese, Malaysian</td>\n",
       "      <td>11:30 AM to 3 PM, 7 PM to 12 Midnight</td>\n",
       "      <td>NaN</td>\n",
       "      <td>NaN</td>\n",
       "      <td>NaN</td>\n",
       "      <td>NaN</td>\n",
       "    </tr>\n",
       "  </tbody>\n",
       "</table>\n",
       "<p>105 rows × 10 columns</p>\n",
       "</div>"
      ],
      "text/plain": [
       "                                       Name  \\\n",
       "0                           Beyond Flavours   \n",
       "1                                  Paradise   \n",
       "2                                  Flechazo   \n",
       "3            Shah Ghouse Hotel & Restaurant   \n",
       "4                Over The Moon Brew Company   \n",
       "..                                      ...   \n",
       "100                               IndiBlaze   \n",
       "101                            Sweet Basket   \n",
       "102                        Angaara Counts 3   \n",
       "103                             Wich Please   \n",
       "104  Republic Of Noodles - Lemon Tree Hotel   \n",
       "\n",
       "                                                 Links   Cost  \\\n",
       "0    https://www.zomato.com/hyderabad/beyond-flavou...    800   \n",
       "1    https://www.zomato.com/hyderabad/paradise-gach...    800   \n",
       "2    https://www.zomato.com/hyderabad/flechazo-gach...  1,300   \n",
       "3    https://www.zomato.com/hyderabad/shah-ghouse-h...    800   \n",
       "4    https://www.zomato.com/hyderabad/over-the-moon...  1,200   \n",
       "..                                                 ...    ...   \n",
       "100  https://www.zomato.com/hyderabad/indiblaze-gac...    600   \n",
       "101  https://www.zomato.com/hyderabad/sweet-basket-...    200   \n",
       "102  https://www.zomato.com/hyderabad/angaara-count...    500   \n",
       "103  https://www.zomato.com/hyderabad/wich-please-1...    250   \n",
       "104  https://www.zomato.com/hyderabad/republic-of-n...  1,700   \n",
       "\n",
       "                                           Collections  \\\n",
       "0    Food Hygiene Rated Restaurants in Hyderabad, C...   \n",
       "1                                  Hyderabad's Hottest   \n",
       "2                   Great Buffets, Hyderabad's Hottest   \n",
       "3                               Late Night Restaurants   \n",
       "4    Best Bars & Pubs, Food Hygiene Rated Restauran...   \n",
       "..                                                 ...   \n",
       "100                           No Collections Available   \n",
       "101                           No Collections Available   \n",
       "102                           No Collections Available   \n",
       "103                           No Collections Available   \n",
       "104                               Pan-Asian Delicacies   \n",
       "\n",
       "                                              Cuisines  \\\n",
       "0    Chinese, Continental, Kebab, European, South I...   \n",
       "1                       Biryani, North Indian, Chinese   \n",
       "2         Asian, Mediterranean, North Indian, Desserts   \n",
       "3    Biryani, North Indian, Chinese, Seafood, Bever...   \n",
       "4    Asian, Continental, North Indian, Chinese, Med...   \n",
       "..                                                 ...   \n",
       "100                                   Fast Food, Salad   \n",
       "101                                     Bakery, Mithai   \n",
       "102                     North Indian, Biryani, Chinese   \n",
       "103                                          Fast Food   \n",
       "104                    Thai, Asian, Chinese, Malaysian   \n",
       "\n",
       "                                               Timings  \\\n",
       "0        12noon to 3:30pm, 6:30pm to 11:30pm (Mon-Sun)   \n",
       "1                                       11 AM to 11 PM   \n",
       "2                11:30 AM to 4:30 PM, 6:30 PM to 11 PM   \n",
       "3                                      12 Noon to 2 AM   \n",
       "4    12noon to 11pm (Mon, Tue, Wed, Thu, Sun), 12no...   \n",
       "..                                                 ...   \n",
       "100                                     11 AM to 11 PM   \n",
       "101  10 AM to 10 PM (Mon-Thu), 8 AM to 10:30 PM (Fr...   \n",
       "102                                   12 Noon to 11 PM   \n",
       "103                           8am to 12:30AM (Mon-Sun)   \n",
       "104              11:30 AM to 3 PM, 7 PM to 12 Midnight   \n",
       "\n",
       "                                              Reviewer  \\\n",
       "0    Rusha Chakraborty, Anusha Tirumalaneedi, Ashok...   \n",
       "1    Subodh Deshmukh, BIBHU BHUSHAN SINHA, Behara V...   \n",
       "2    Vivek Vuppala, Jalaj Goyal, Teju Winni, Karthi...   \n",
       "3    Ashwi Sharma, Dasthagir Shaik, Ram Chowdary, A...   \n",
       "4    Joel Coelho, Elizabeth Thomas, Piyush Singhal,...   \n",
       "..                                                 ...   \n",
       "100                                                NaN   \n",
       "101                                                NaN   \n",
       "102                                                NaN   \n",
       "103                                                NaN   \n",
       "104                                                NaN   \n",
       "\n",
       "                                                Review  Rating  \\\n",
       "0    The ambience was good, food was quite good . h...    4.28   \n",
       "1    Paradise Biryani is really good service also g...    4.70   \n",
       "2    We were 4 people who visited this place on Thu...    4.66   \n",
       "3    Haleem, the best place to try out.\\nAvaialble ...    3.21   \n",
       "4    Great ambience, met an excellent man - Sarbesh...    4.34   \n",
       "..                                                 ...     ...   \n",
       "100                                                NaN     NaN   \n",
       "101                                                NaN     NaN   \n",
       "102                                                NaN     NaN   \n",
       "103                                                NaN     NaN   \n",
       "104                                                NaN     NaN   \n",
       "\n",
       "     earliest_review  \n",
       "0    5/10/2019 23:24  \n",
       "1    5/10/2019 21:35  \n",
       "2    4/20/2019 15:40  \n",
       "3    3/10/2019 13:35  \n",
       "4    4/24/2019 23:34  \n",
       "..               ...  \n",
       "100              NaN  \n",
       "101              NaN  \n",
       "102              NaN  \n",
       "103              NaN  \n",
       "104              NaN  \n",
       "\n",
       "[105 rows x 10 columns]"
      ]
     },
     "execution_count": 27,
     "metadata": {},
     "output_type": "execute_result"
    }
   ],
   "source": [
    "df.head()\n",
    "df.drop(\"Pictures\", axis = 1)"
   ]
  },
  {
   "cell_type": "code",
   "execution_count": 28,
   "metadata": {},
   "outputs": [
    {
     "name": "stderr",
     "output_type": "stream",
     "text": [
      "/var/folders/vf/64r8j3px5m7_0cwl_br4gt2c0000gn/T/ipykernel_27041/2131475259.py:1: FutureWarning: A value is trying to be set on a copy of a DataFrame or Series through chained assignment using an inplace method.\n",
      "The behavior will change in pandas 3.0. This inplace method will never work because the intermediate object on which we are setting values always behaves as a copy.\n",
      "\n",
      "For example, when doing 'df[col].method(value, inplace=True)', try using 'df.method({col: value}, inplace=True)' or df[col] = df[col].method(value) instead, to perform the operation inplace on the original object.\n",
      "\n",
      "\n",
      "  df[\"Review\"].fillna(\"No review\", inplace=True)\n",
      "/var/folders/vf/64r8j3px5m7_0cwl_br4gt2c0000gn/T/ipykernel_27041/2131475259.py:2: FutureWarning: A value is trying to be set on a copy of a DataFrame or Series through chained assignment using an inplace method.\n",
      "The behavior will change in pandas 3.0. This inplace method will never work because the intermediate object on which we are setting values always behaves as a copy.\n",
      "\n",
      "For example, when doing 'df[col].method(value, inplace=True)', try using 'df.method({col: value}, inplace=True)' or df[col] = df[col].method(value) instead, to perform the operation inplace on the original object.\n",
      "\n",
      "\n",
      "  df[\"Rating\"].fillna(df[\"Rating\"].median(), inplace=True)\n"
     ]
    }
   ],
   "source": [
    "df[\"Review\"].fillna(\"No review\", inplace=True)\n",
    "df[\"Rating\"].fillna(df[\"Rating\"].median(), inplace=True)\n",
    "df.drop([\"earliest_review\", \"Reviewer\", \"Links\", \"Pictures\"], axis=1, inplace=True)"
   ]
  },
  {
   "cell_type": "markdown",
   "metadata": {
    "id": "MSa1f5Uengrz"
   },
   "source": [
    "### What all manipulations have you done and insights you found?"
   ]
  },
  {
   "cell_type": "markdown",
   "metadata": {
    "id": "LbyXE7I1olp8"
   },
   "source": [
    "Answer Here."
   ]
  },
  {
   "cell_type": "markdown",
   "metadata": {
    "id": "Iwf50b-R2tYG"
   },
   "source": [
    "### 4. Textual Data Preprocessing\n",
    "(It's mandatory for textual dataset i.e., NLP, Sentiment Analysis, Text Clustering etc.)"
   ]
  },
  {
   "cell_type": "code",
   "execution_count": 29,
   "metadata": {},
   "outputs": [
    {
     "name": "stderr",
     "output_type": "stream",
     "text": [
      "[nltk_data] Downloading package stopwords to\n",
      "[nltk_data]     /Users/apurbakoirala/nltk_data...\n",
      "[nltk_data]   Package stopwords is already up-to-date!\n",
      "[nltk_data] Downloading package punkt to\n",
      "[nltk_data]     /Users/apurbakoirala/nltk_data...\n",
      "[nltk_data]   Package punkt is already up-to-date!\n",
      "[nltk_data] Downloading package averaged_perceptron_tagger to\n",
      "[nltk_data]     /Users/apurbakoirala/nltk_data...\n",
      "[nltk_data]   Package averaged_perceptron_tagger is already up-to-\n",
      "[nltk_data]       date!\n",
      "[nltk_data] Downloading package wordnet to\n",
      "[nltk_data]     /Users/apurbakoirala/nltk_data...\n",
      "[nltk_data]   Package wordnet is already up-to-date!\n",
      "[nltk_data] Downloading package punkt_tab to\n",
      "[nltk_data]     /Users/apurbakoirala/nltk_data...\n",
      "[nltk_data]   Package punkt_tab is already up-to-date!\n",
      "[nltk_data] Downloading package averaged_perceptron_tagger_eng to\n",
      "[nltk_data]     /Users/apurbakoirala/nltk_data...\n",
      "[nltk_data]   Package averaged_perceptron_tagger_eng is already up-to-\n",
      "[nltk_data]       date!\n"
     ]
    },
    {
     "data": {
      "text/plain": [
       "True"
      ]
     },
     "execution_count": 29,
     "metadata": {},
     "output_type": "execute_result"
    }
   ],
   "source": [
    "nltk.download(\"stopwords\")\n",
    "nltk.download(\"punkt\")\n",
    "nltk.download(\"averaged_perceptron_tagger\")\n",
    "nltk.download(\"wordnet\")\n",
    "nltk.download('punkt_tab')\n",
    "nltk.download('averaged_perceptron_tagger_eng')"
   ]
  },
  {
   "cell_type": "code",
   "execution_count": 30,
   "metadata": {},
   "outputs": [],
   "source": [
    "stop_words = set(stopwords.words(\"english\"))\n",
    "lemmatizer = WordNetLemmatizer()"
   ]
  },
  {
   "cell_type": "code",
   "execution_count": 31,
   "metadata": {},
   "outputs": [],
   "source": [
    "text_columns = [\"Name\", \"Links\", \"Collections\", \"Cuisines\", \"Timings\", \"Reviewer\", \"Review\"]"
   ]
  },
  {
   "cell_type": "markdown",
   "metadata": {
    "id": "GMQiZwjn3iu7"
   },
   "source": [
    "#### 1. Expand Contraction"
   ]
  },
  {
   "cell_type": "code",
   "execution_count": 32,
   "metadata": {
    "id": "PTouz10C3oNN"
   },
   "outputs": [],
   "source": [
    "# Expand Contraction\n",
    "def preprocess_text(text):\n",
    "    if not isinstance(text, str):\n",
    "        return text  # Skip non-string values\n",
    "\n",
    "    # 1️⃣ Expand Contractions\n",
    "    text = contractions.fix(text)\n",
    "\n",
    "    # 2️⃣ Convert to Lowercase\n",
    "    text = text.lower()\n",
    "\n",
    "    # 3️⃣ Remove Punctuations\n",
    "    text = text.translate(str.maketrans(\"\", \"\", string.punctuation))\n",
    "\n",
    "    # 4️⃣ Remove URLs & Words Containing Digits\n",
    "    text = re.sub(r\"http\\S+|www\\S+|https\\S+\", \"\", text)  # Remove URLs\n",
    "    text = re.sub(r\"\\b\\w*\\d\\w*\\b\", \"\", text)  # Remove words containing digits\n",
    "\n",
    "    # 5️⃣ Remove Stopwords & Extra Whitespaces\n",
    "    tokens = word_tokenize(text)\n",
    "    tokens = [word for word in tokens if word not in stop_words]  # Remove stopwords\n",
    "    text = \" \".join(tokens).strip()  # Remove extra whitespace\n",
    "\n",
    "    # 6️⃣ Rephrase Text (Handled via contractions)\n",
    "\n",
    "    # 7️⃣ Tokenization (Already done above)\n",
    "\n",
    "    # 8️⃣ Text Normalization (Lemmatization)\n",
    "    tokens = [lemmatizer.lemmatize(word) for word in tokens]\n",
    "    text = \" \".join(tokens)\n",
    "\n",
    "    return text"
   ]
  },
  {
   "cell_type": "markdown",
   "metadata": {
    "id": "WVIkgGqN3qsr"
   },
   "source": [
    "#### 2. Lower Casing"
   ]
  },
  {
   "cell_type": "code",
   "execution_count": 33,
   "metadata": {
    "id": "88JnJ1jN3w7j"
   },
   "outputs": [],
   "source": [
    "# Lower Casing\n",
    "for col in text_columns:\n",
    "    if col in df.columns:\n",
    "        df[col] = df[col].apply(preprocess_text)"
   ]
  },
  {
   "cell_type": "markdown",
   "metadata": {
    "id": "XkPnILGE3zoT"
   },
   "source": [
    "#### 3. Removing Punctuations"
   ]
  },
  {
   "cell_type": "code",
   "execution_count": 34,
   "metadata": {
    "id": "vqbBqNaA33c0"
   },
   "outputs": [],
   "source": [
    "# Remove Punctuations\n",
    "df[\"POS_Tags\"] = df[\"Review\"].apply(lambda x: pos_tag(word_tokenize(x)) if isinstance(x, str) else x)"
   ]
  },
  {
   "cell_type": "markdown",
   "metadata": {
    "id": "Hlsf0x5436Go"
   },
   "source": [
    "#### 4. Removing URLs & Removing words and digits contain digits."
   ]
  },
  {
   "cell_type": "code",
   "execution_count": 35,
   "metadata": {
    "id": "2sxKgKxu4Ip3"
   },
   "outputs": [],
   "source": [
    "# Remove URLs & Remove words and digits contain digits\n",
    "vectorizer = TfidfVectorizer(max_features=5000)\n",
    "df[\"TFIDF_Review\"] = list(vectorizer.fit_transform(df[\"Review\"].astype(str)).toarray())"
   ]
  },
  {
   "cell_type": "markdown",
   "metadata": {
    "id": "mT9DMSJo4nBL"
   },
   "source": [
    "#### 5. Removing Stopwords & Removing White spaces"
   ]
  },
  {
   "cell_type": "code",
   "execution_count": 36,
   "metadata": {
    "id": "T2LSJh154s8W"
   },
   "outputs": [
    {
     "data": {
      "text/html": [
       "<div>\n",
       "<style scoped>\n",
       "    .dataframe tbody tr th:only-of-type {\n",
       "        vertical-align: middle;\n",
       "    }\n",
       "\n",
       "    .dataframe tbody tr th {\n",
       "        vertical-align: top;\n",
       "    }\n",
       "\n",
       "    .dataframe thead th {\n",
       "        text-align: right;\n",
       "    }\n",
       "</style>\n",
       "<table border=\"1\" class=\"dataframe\">\n",
       "  <thead>\n",
       "    <tr style=\"text-align: right;\">\n",
       "      <th></th>\n",
       "      <th>Name</th>\n",
       "      <th>Cost</th>\n",
       "      <th>Collections</th>\n",
       "      <th>Cuisines</th>\n",
       "      <th>Timings</th>\n",
       "      <th>Review</th>\n",
       "      <th>Rating</th>\n",
       "      <th>POS_Tags</th>\n",
       "      <th>TFIDF_Review</th>\n",
       "    </tr>\n",
       "  </thead>\n",
       "  <tbody>\n",
       "    <tr>\n",
       "      <th>0</th>\n",
       "      <td>beyond flavour</td>\n",
       "      <td>800</td>\n",
       "      <td>food hygiene rated restaurant hyderabad corpor...</td>\n",
       "      <td>chinese continental kebab european south india...</td>\n",
       "      <td>monsun</td>\n",
       "      <td>ambience good food quite good saturday lunch c...</td>\n",
       "      <td>4.28</td>\n",
       "      <td>[(ambience, RB), (good, JJ), (food, NN), (quit...</td>\n",
       "      <td>[0.0, 0.0, 0.0, 0.0, 0.0, 0.0, 0.0, 0.0, 0.0, ...</td>\n",
       "    </tr>\n",
       "    <tr>\n",
       "      <th>1</th>\n",
       "      <td>paradise</td>\n",
       "      <td>800</td>\n",
       "      <td>hyderabad hottest</td>\n",
       "      <td>biryani north indian chinese</td>\n",
       "      <td>pm</td>\n",
       "      <td>paradise biryani really good service also good...</td>\n",
       "      <td>4.70</td>\n",
       "      <td>[(paradise, NN), (biryani, NN), (really, RB), ...</td>\n",
       "      <td>[0.0, 0.0, 0.0, 0.0, 0.0, 0.0, 0.0, 0.0, 0.0, ...</td>\n",
       "    </tr>\n",
       "    <tr>\n",
       "      <th>2</th>\n",
       "      <td>flechazo</td>\n",
       "      <td>1,300</td>\n",
       "      <td>great buffet hyderabad hottest</td>\n",
       "      <td>asian mediterranean north indian dessert</td>\n",
       "      <td>pm pm pm</td>\n",
       "      <td>people visited place thursday nightambience se...</td>\n",
       "      <td>4.66</td>\n",
       "      <td>[(people, NNS), (visited, VBD), (place, NN), (...</td>\n",
       "      <td>[0.0, 0.0, 0.0, 0.012268811632284854, 0.0, 0.0...</td>\n",
       "    </tr>\n",
       "    <tr>\n",
       "      <th>3</th>\n",
       "      <td>shah ghouse hotel restaurant</td>\n",
       "      <td>800</td>\n",
       "      <td>late night restaurant</td>\n",
       "      <td>biryani north indian chinese seafood beverage</td>\n",
       "      <td>noon</td>\n",
       "      <td>haleem best place try avaialble multiple outle...</td>\n",
       "      <td>3.21</td>\n",
       "      <td>[(haleem, NN), (best, JJS), (place, NN), (try,...</td>\n",
       "      <td>[0.0, 0.0, 0.0, 0.0, 0.0, 0.0, 0.0, 0.0, 0.0, ...</td>\n",
       "    </tr>\n",
       "    <tr>\n",
       "      <th>4</th>\n",
       "      <td>moon brew company</td>\n",
       "      <td>1,200</td>\n",
       "      <td>best bar pub food hygiene rated restaurant hyd...</td>\n",
       "      <td>asian continental north indian chinese mediter...</td>\n",
       "      <td>mon tue wed thu sun frisat</td>\n",
       "      <td>great ambience met excellent man sarbeshwar su...</td>\n",
       "      <td>4.34</td>\n",
       "      <td>[(great, JJ), (ambience, NN), (met, VBD), (exc...</td>\n",
       "      <td>[0.0, 0.0, 0.0, 0.0, 0.0, 0.0, 0.0, 0.0, 0.0, ...</td>\n",
       "    </tr>\n",
       "  </tbody>\n",
       "</table>\n",
       "</div>"
      ],
      "text/plain": [
       "                           Name   Cost  \\\n",
       "0                beyond flavour    800   \n",
       "1                      paradise    800   \n",
       "2                      flechazo  1,300   \n",
       "3  shah ghouse hotel restaurant    800   \n",
       "4             moon brew company  1,200   \n",
       "\n",
       "                                         Collections  \\\n",
       "0  food hygiene rated restaurant hyderabad corpor...   \n",
       "1                                  hyderabad hottest   \n",
       "2                     great buffet hyderabad hottest   \n",
       "3                              late night restaurant   \n",
       "4  best bar pub food hygiene rated restaurant hyd...   \n",
       "\n",
       "                                            Cuisines  \\\n",
       "0  chinese continental kebab european south india...   \n",
       "1                       biryani north indian chinese   \n",
       "2           asian mediterranean north indian dessert   \n",
       "3      biryani north indian chinese seafood beverage   \n",
       "4  asian continental north indian chinese mediter...   \n",
       "\n",
       "                      Timings  \\\n",
       "0                      monsun   \n",
       "1                          pm   \n",
       "2                    pm pm pm   \n",
       "3                        noon   \n",
       "4  mon tue wed thu sun frisat   \n",
       "\n",
       "                                              Review  Rating  \\\n",
       "0  ambience good food quite good saturday lunch c...    4.28   \n",
       "1  paradise biryani really good service also good...    4.70   \n",
       "2  people visited place thursday nightambience se...    4.66   \n",
       "3  haleem best place try avaialble multiple outle...    3.21   \n",
       "4  great ambience met excellent man sarbeshwar su...    4.34   \n",
       "\n",
       "                                            POS_Tags  \\\n",
       "0  [(ambience, RB), (good, JJ), (food, NN), (quit...   \n",
       "1  [(paradise, NN), (biryani, NN), (really, RB), ...   \n",
       "2  [(people, NNS), (visited, VBD), (place, NN), (...   \n",
       "3  [(haleem, NN), (best, JJS), (place, NN), (try,...   \n",
       "4  [(great, JJ), (ambience, NN), (met, VBD), (exc...   \n",
       "\n",
       "                                        TFIDF_Review  \n",
       "0  [0.0, 0.0, 0.0, 0.0, 0.0, 0.0, 0.0, 0.0, 0.0, ...  \n",
       "1  [0.0, 0.0, 0.0, 0.0, 0.0, 0.0, 0.0, 0.0, 0.0, ...  \n",
       "2  [0.0, 0.0, 0.0, 0.012268811632284854, 0.0, 0.0...  \n",
       "3  [0.0, 0.0, 0.0, 0.0, 0.0, 0.0, 0.0, 0.0, 0.0, ...  \n",
       "4  [0.0, 0.0, 0.0, 0.0, 0.0, 0.0, 0.0, 0.0, 0.0, ...  "
      ]
     },
     "execution_count": 36,
     "metadata": {},
     "output_type": "execute_result"
    }
   ],
   "source": [
    "# Remove Stopwords\n",
    "df.head()"
   ]
  },
  {
   "cell_type": "code",
   "execution_count": 37,
   "metadata": {
    "id": "EgLJGffy4vm0"
   },
   "outputs": [
    {
     "name": "stdout",
     "output_type": "stream",
     "text": [
      "<class 'pandas.core.frame.DataFrame'>\n",
      "RangeIndex: 105 entries, 0 to 104\n",
      "Data columns (total 9 columns):\n",
      " #   Column        Non-Null Count  Dtype  \n",
      "---  ------        --------------  -----  \n",
      " 0   Name          105 non-null    object \n",
      " 1   Cost          105 non-null    object \n",
      " 2   Collections   105 non-null    object \n",
      " 3   Cuisines      105 non-null    object \n",
      " 4   Timings       105 non-null    object \n",
      " 5   Review        105 non-null    object \n",
      " 6   Rating        105 non-null    float64\n",
      " 7   POS_Tags      105 non-null    object \n",
      " 8   TFIDF_Review  105 non-null    object \n",
      "dtypes: float64(1), object(8)\n",
      "memory usage: 7.5+ KB\n"
     ]
    }
   ],
   "source": [
    "df.info()"
   ]
  },
  {
   "cell_type": "markdown",
   "metadata": {
    "id": "c49ITxTc407N"
   },
   "source": [
    "#### 6. Rephrase Text"
   ]
  },
  {
   "cell_type": "code",
   "execution_count": 38,
   "metadata": {
    "id": "foqY80Qu48N2"
   },
   "outputs": [],
   "source": [
    "df[\"Cost\"] = df[\"Cost\"].replace(\",\", \"\", regex=True).astype(float)"
   ]
  },
  {
   "cell_type": "markdown",
   "metadata": {
    "id": "OeJFEK0N496M"
   },
   "source": [
    "#### 7. Tokenization"
   ]
  },
  {
   "cell_type": "code",
   "execution_count": 39,
   "metadata": {
    "id": "ijx1rUOS5CUU"
   },
   "outputs": [
    {
     "name": "stdout",
     "output_type": "stream",
     "text": [
      "['chinese continental kebab european south indian north indian'\n",
      " 'biryani north indian chinese' 'asian mediterranean north indian dessert'\n",
      " 'biryani north indian chinese seafood beverage'\n",
      " 'asian continental north indian chinese mediterranean'\n",
      " 'seafood goan north indian continental asian'\n",
      " 'healthy food north indian continental south indian' 'lebanese'\n",
      " 'american chinese north indian kebab south indian' 'ice cream dessert'\n",
      " 'street food north indian fast food'\n",
      " 'mediterranean north indian kebab bbq' 'continental american chinese'\n",
      " 'north indian italian finger food' 'european mediterranean north indian'\n",
      " 'burger fast food' 'north indian' 'chinese north indian'\n",
      " 'north indian chinese continental' 'north indian chinese biryani'\n",
      " 'north indian japanese italian salad sushi' 'american' 'continental'\n",
      " 'mexican italian north indian chinese salad'\n",
      " 'north indian mediterranean european' 'mughlai biryani' 'fast food'\n",
      " 'andhra south indian north indian'\n",
      " 'bakery north indian mughlai juice chinese'\n",
      " 'arabian north indian chinese' 'north indian fast food'\n",
      " 'italian north indian south indian asian'\n",
      " 'biryani south indian north indian chinese andhra'\n",
      " 'andhra biryani hyderabadi north indian'\n",
      " 'north indian continental italian asian' 'cafe continental dessert'\n",
      " 'european italian continental spanish' 'bakery fast food dessert'\n",
      " 'cafe dessert fast food' 'american wrap dessert'\n",
      " 'finger food north indian kebab chinese'\n",
      " 'chinese biryani andhra north indian' 'andhra north indian chinese'\n",
      " 'chinese thai indonesian asian' 'south indian north indian chinese'\n",
      " 'north indian continental' 'north indian biryani chinese'\n",
      " 'chinese continental italian' 'asian' 'cafe bakery'\n",
      " 'modern indian asian continental italian' 'north indian chinese'\n",
      " 'dessert beverage' 'bakery dessert fast food'\n",
      " 'north indian continental chinese italian'\n",
      " 'kebab continental italian north indian' 'north indian chinese fast food'\n",
      " 'chinese asian momos' 'north indian chinese japanese sushi'\n",
      " 'north indian chinese mughlai biryani' 'north indian hyderabadi'\n",
      " 'north indian continental italian' 'bbq asian modern indian'\n",
      " 'asian thai chinese sushi momos' 'north indian mughlai beverage'\n",
      " 'bakery dessert' 'cafe fast food beverage' 'fast food biryani dessert'\n",
      " 'north indian south indian' 'bakery' 'italian north indian chinese salad'\n",
      " 'north indian mughlai' 'north indian chinese continental biryani'\n",
      " 'north indian burger kebab'\n",
      " 'north indian chinese seafood biryani hyderabadi' 'burger american'\n",
      " 'north indian andhra biryani chinese' 'momos' 'cafe dessert'\n",
      " 'american fast food salad burger' 'fast food pizza' 'street food arabian'\n",
      " 'north indian italian continental asian'\n",
      " 'continental italian north indian chinese asian' 'north eastern momos'\n",
      " 'dessert cafe beverage burger fast food' 'hyderabadi chinese mughlai'\n",
      " 'asian sushi' 'chinese seafood' 'fast food salad' 'bakery mithai'\n",
      " 'thai asian chinese malaysian'] \n",
      " 92\n"
     ]
    }
   ],
   "source": [
    "# Tokenization\n",
    "print(df[\"Cuisines\"].unique(), \"\\n\", df['Cuisines'].nunique())"
   ]
  },
  {
   "cell_type": "markdown",
   "metadata": {
    "id": "9ExmJH0g5HBk"
   },
   "source": [
    "#### 8. Text Normalization"
   ]
  },
  {
   "cell_type": "code",
   "execution_count": 40,
   "metadata": {
    "id": "AIJ1a-Zc5PY8"
   },
   "outputs": [],
   "source": [
    "# Normalizing Text (i.e., Stemming, Lemmatization etc.)\n",
    "df[\"Collections\"] = df[\"Collections\"].apply(lambda x: x.split() if isinstance(x, str) else [])\n",
    "\n",
    "# Apply MultiLabelBinarizer\n",
    "mlb = MultiLabelBinarizer()\n",
    "collections_df = pd.DataFrame(mlb.fit_transform(df[\"Collections\"]), columns=mlb.classes_)\n",
    "\n",
    "# Merge with original DataFrame and drop the old column\n",
    "df = pd.concat([df, collections_df], axis=1)\n",
    "df.drop(columns=[\"Collections\"], inplace=True)"
   ]
  },
  {
   "cell_type": "markdown",
   "metadata": {
    "id": "cJNqERVU536h"
   },
   "source": [
    "##### Which text normalization technique have you used and why?"
   ]
  },
  {
   "cell_type": "markdown",
   "metadata": {
    "id": "Z9jKVxE06BC1"
   },
   "source": [
    "Answer Here."
   ]
  },
  {
   "cell_type": "markdown",
   "metadata": {
    "id": "k5UmGsbsOxih"
   },
   "source": [
    "#### 9. Part of speech tagging"
   ]
  },
  {
   "cell_type": "code",
   "execution_count": 41,
   "metadata": {
    "id": "btT3ZJBAO6Ik"
   },
   "outputs": [],
   "source": [
    "# POS Taging\n",
    "# Function to categorize timings\n",
    "def categorize_timings(time_str):\n",
    "    time_str = time_str.lower().strip()\n",
    "    \n",
    "    if time_str in [\"\", \"unknown\"]:  # Handle missing values\n",
    "        return np.nan\n",
    "    elif \"midnight\" in time_str or \"pm pm pm pm\" in time_str:\n",
    "        return \"Late Night\"\n",
    "    elif \"noon\" in time_str:\n",
    "        return \"Afternoon\"\n",
    "    elif \"pm\" in time_str:\n",
    "        return \"Evening\"\n",
    "    elif \"am\" in time_str:\n",
    "        return \"Morning\"\n",
    "    elif \"hour\" in time_str:\n",
    "        return \"All Day\"\n",
    "    elif any(day in time_str for day in [\"mon\", \"tue\", \"wed\", \"thu\", \"fri\", \"sat\", \"sun\"]):\n",
    "        return \"Specific Days\"\n",
    "    return \"Other\"\n",
    "\n",
    "# Apply the function\n",
    "df[\"Timings\"] = df[\"Timings\"].apply(categorize_timings)\n",
    "\n",
    "df = pd.get_dummies(df, columns=[\"Timings\"])"
   ]
  },
  {
   "cell_type": "markdown",
   "metadata": {
    "id": "T0VqWOYE6DLQ"
   },
   "source": [
    "#### 10. Text Vectorization"
   ]
  },
  {
   "cell_type": "code",
   "execution_count": 45,
   "metadata": {
    "id": "yBRtdhth6JDE"
   },
   "outputs": [
    {
     "name": "stdout",
     "output_type": "stream",
     "text": [
      "{'sushi', 'mexican', 'kebab', 'mughlai', 'spanish', 'thai', 'cafe', 'andhra', 'italian', 'bakery', 'modern', 'biryani', 'healthy', 'lebanese', 'eastern', 'continental', 'arabian', 'burger', 'indonesian', 'juice', 'ice', 'bbq', 'goan', 'indian', 'dessert', 'pizza', 'wrap', 'finger', 'american', 'momos', 'chinese', 'hyderabadi', 'asian', 'south', 'mediterranean', 'north', 'beverage', 'fast', 'european', 'mithai', 'cream', 'seafood', 'salad', 'japanese', 'street', 'food', 'malaysian'}\n"
     ]
    }
   ],
   "source": [
    "# Vectorizing Text\n",
    "# Split cuisines into a list\n",
    "cuisine_list = df[\"Cuisines\"].dropna().str.lower().str.split()\n",
    "\n",
    "# Flatten the list to get all unique cuisines\n",
    "unique_cuisines = set(c for sublist in cuisine_list for c in sublist)\n",
    "print(unique_cuisines)"
   ]
  },
  {
   "cell_type": "code",
   "execution_count": 46,
   "metadata": {},
   "outputs": [],
   "source": [
    "# Convert \"Cuisines\" column to lists of cuisines\n",
    "df[\"Cuisines\"] = df[\"Cuisines\"].dropna().str.lower().str.split()\n",
    "\n",
    "# Apply one-hot encoding\n",
    "mlb = MultiLabelBinarizer()\n",
    "cuisine_encoded = pd.DataFrame(mlb.fit_transform(df[\"Cuisines\"]), columns=mlb.classes_)\n",
    "\n",
    "# Merge with the main DataFrame\n",
    "df = pd.concat([df, cuisine_encoded], axis=1)\n",
    "\n",
    "# Drop original 'Cuisines' column\n",
    "df.drop(columns=[\"Cuisines\"], inplace=True)\n"
   ]
  },
  {
   "cell_type": "code",
   "execution_count": 58,
   "metadata": {},
   "outputs": [
    {
     "data": {
      "text/html": [
       "<div>\n",
       "<style scoped>\n",
       "    .dataframe tbody tr th:only-of-type {\n",
       "        vertical-align: middle;\n",
       "    }\n",
       "\n",
       "    .dataframe tbody tr th {\n",
       "        vertical-align: top;\n",
       "    }\n",
       "\n",
       "    .dataframe thead th {\n",
       "        text-align: right;\n",
       "    }\n",
       "</style>\n",
       "<table border=\"1\" class=\"dataframe\">\n",
       "  <thead>\n",
       "    <tr style=\"text-align: right;\">\n",
       "      <th></th>\n",
       "      <th>Name</th>\n",
       "      <th>Cost</th>\n",
       "      <th>Review</th>\n",
       "      <th>Rating</th>\n",
       "      <th>POS_Tags</th>\n",
       "      <th>TFIDF_Review</th>\n",
       "      <th>available</th>\n",
       "      <th>bakery</th>\n",
       "      <th>bar</th>\n",
       "      <th>barbecue</th>\n",
       "      <th>...</th>\n",
       "      <th>north</th>\n",
       "      <th>pizza</th>\n",
       "      <th>salad</th>\n",
       "      <th>seafood</th>\n",
       "      <th>south</th>\n",
       "      <th>spanish</th>\n",
       "      <th>street</th>\n",
       "      <th>sushi</th>\n",
       "      <th>thai</th>\n",
       "      <th>wrap</th>\n",
       "    </tr>\n",
       "  </thead>\n",
       "  <tbody>\n",
       "    <tr>\n",
       "      <th>0</th>\n",
       "      <td>beyond flavour</td>\n",
       "      <td>800.0</td>\n",
       "      <td>ambience good food quite good saturday lunch c...</td>\n",
       "      <td>4.28</td>\n",
       "      <td>[(ambience, RB), (good, JJ), (food, NN), (quit...</td>\n",
       "      <td>[0.0, 0.0, 0.0, 0.0, 0.0, 0.0, 0.0, 0.0, 0.0, ...</td>\n",
       "      <td>0</td>\n",
       "      <td>0</td>\n",
       "      <td>0</td>\n",
       "      <td>0</td>\n",
       "      <td>...</td>\n",
       "      <td>1</td>\n",
       "      <td>0</td>\n",
       "      <td>0</td>\n",
       "      <td>0</td>\n",
       "      <td>1</td>\n",
       "      <td>0</td>\n",
       "      <td>0</td>\n",
       "      <td>0</td>\n",
       "      <td>0</td>\n",
       "      <td>0</td>\n",
       "    </tr>\n",
       "    <tr>\n",
       "      <th>1</th>\n",
       "      <td>paradise</td>\n",
       "      <td>800.0</td>\n",
       "      <td>paradise biryani really good service also good...</td>\n",
       "      <td>4.70</td>\n",
       "      <td>[(paradise, NN), (biryani, NN), (really, RB), ...</td>\n",
       "      <td>[0.0, 0.0, 0.0, 0.0, 0.0, 0.0, 0.0, 0.0, 0.0, ...</td>\n",
       "      <td>0</td>\n",
       "      <td>0</td>\n",
       "      <td>0</td>\n",
       "      <td>0</td>\n",
       "      <td>...</td>\n",
       "      <td>1</td>\n",
       "      <td>0</td>\n",
       "      <td>0</td>\n",
       "      <td>0</td>\n",
       "      <td>0</td>\n",
       "      <td>0</td>\n",
       "      <td>0</td>\n",
       "      <td>0</td>\n",
       "      <td>0</td>\n",
       "      <td>0</td>\n",
       "    </tr>\n",
       "    <tr>\n",
       "      <th>2</th>\n",
       "      <td>flechazo</td>\n",
       "      <td>1300.0</td>\n",
       "      <td>people visited place thursday nightambience se...</td>\n",
       "      <td>4.66</td>\n",
       "      <td>[(people, NNS), (visited, VBD), (place, NN), (...</td>\n",
       "      <td>[0.0, 0.0, 0.0, 0.012268811632284854, 0.0, 0.0...</td>\n",
       "      <td>0</td>\n",
       "      <td>0</td>\n",
       "      <td>0</td>\n",
       "      <td>0</td>\n",
       "      <td>...</td>\n",
       "      <td>1</td>\n",
       "      <td>0</td>\n",
       "      <td>0</td>\n",
       "      <td>0</td>\n",
       "      <td>0</td>\n",
       "      <td>0</td>\n",
       "      <td>0</td>\n",
       "      <td>0</td>\n",
       "      <td>0</td>\n",
       "      <td>0</td>\n",
       "    </tr>\n",
       "    <tr>\n",
       "      <th>3</th>\n",
       "      <td>shah ghouse hotel restaurant</td>\n",
       "      <td>800.0</td>\n",
       "      <td>haleem best place try avaialble multiple outle...</td>\n",
       "      <td>3.21</td>\n",
       "      <td>[(haleem, NN), (best, JJS), (place, NN), (try,...</td>\n",
       "      <td>[0.0, 0.0, 0.0, 0.0, 0.0, 0.0, 0.0, 0.0, 0.0, ...</td>\n",
       "      <td>0</td>\n",
       "      <td>0</td>\n",
       "      <td>0</td>\n",
       "      <td>0</td>\n",
       "      <td>...</td>\n",
       "      <td>1</td>\n",
       "      <td>0</td>\n",
       "      <td>0</td>\n",
       "      <td>1</td>\n",
       "      <td>0</td>\n",
       "      <td>0</td>\n",
       "      <td>0</td>\n",
       "      <td>0</td>\n",
       "      <td>0</td>\n",
       "      <td>0</td>\n",
       "    </tr>\n",
       "    <tr>\n",
       "      <th>4</th>\n",
       "      <td>moon brew company</td>\n",
       "      <td>1200.0</td>\n",
       "      <td>great ambience met excellent man sarbeshwar su...</td>\n",
       "      <td>4.34</td>\n",
       "      <td>[(great, JJ), (ambience, NN), (met, VBD), (exc...</td>\n",
       "      <td>[0.0, 0.0, 0.0, 0.0, 0.0, 0.0, 0.0, 0.0, 0.0, ...</td>\n",
       "      <td>0</td>\n",
       "      <td>0</td>\n",
       "      <td>1</td>\n",
       "      <td>0</td>\n",
       "      <td>...</td>\n",
       "      <td>1</td>\n",
       "      <td>0</td>\n",
       "      <td>0</td>\n",
       "      <td>0</td>\n",
       "      <td>0</td>\n",
       "      <td>0</td>\n",
       "      <td>0</td>\n",
       "      <td>0</td>\n",
       "      <td>0</td>\n",
       "      <td>0</td>\n",
       "    </tr>\n",
       "  </tbody>\n",
       "</table>\n",
       "<p>5 rows × 129 columns</p>\n",
       "</div>"
      ],
      "text/plain": [
       "                           Name    Cost  \\\n",
       "0                beyond flavour   800.0   \n",
       "1                      paradise   800.0   \n",
       "2                      flechazo  1300.0   \n",
       "3  shah ghouse hotel restaurant   800.0   \n",
       "4             moon brew company  1200.0   \n",
       "\n",
       "                                              Review  Rating  \\\n",
       "0  ambience good food quite good saturday lunch c...    4.28   \n",
       "1  paradise biryani really good service also good...    4.70   \n",
       "2  people visited place thursday nightambience se...    4.66   \n",
       "3  haleem best place try avaialble multiple outle...    3.21   \n",
       "4  great ambience met excellent man sarbeshwar su...    4.34   \n",
       "\n",
       "                                            POS_Tags  \\\n",
       "0  [(ambience, RB), (good, JJ), (food, NN), (quit...   \n",
       "1  [(paradise, NN), (biryani, NN), (really, RB), ...   \n",
       "2  [(people, NNS), (visited, VBD), (place, NN), (...   \n",
       "3  [(haleem, NN), (best, JJS), (place, NN), (try,...   \n",
       "4  [(great, JJ), (ambience, NN), (met, VBD), (exc...   \n",
       "\n",
       "                                        TFIDF_Review  available  bakery  bar  \\\n",
       "0  [0.0, 0.0, 0.0, 0.0, 0.0, 0.0, 0.0, 0.0, 0.0, ...          0       0    0   \n",
       "1  [0.0, 0.0, 0.0, 0.0, 0.0, 0.0, 0.0, 0.0, 0.0, ...          0       0    0   \n",
       "2  [0.0, 0.0, 0.0, 0.012268811632284854, 0.0, 0.0...          0       0    0   \n",
       "3  [0.0, 0.0, 0.0, 0.0, 0.0, 0.0, 0.0, 0.0, 0.0, ...          0       0    0   \n",
       "4  [0.0, 0.0, 0.0, 0.0, 0.0, 0.0, 0.0, 0.0, 0.0, ...          0       0    1   \n",
       "\n",
       "   barbecue  ...  north  pizza  salad  seafood  south  spanish  street  sushi  \\\n",
       "0         0  ...      1      0      0        0      1        0       0      0   \n",
       "1         0  ...      1      0      0        0      0        0       0      0   \n",
       "2         0  ...      1      0      0        0      0        0       0      0   \n",
       "3         0  ...      1      0      0        1      0        0       0      0   \n",
       "4         0  ...      1      0      0        0      0        0       0      0   \n",
       "\n",
       "   thai  wrap  \n",
       "0     0     0  \n",
       "1     0     0  \n",
       "2     0     0  \n",
       "3     0     0  \n",
       "4     0     0  \n",
       "\n",
       "[5 rows x 129 columns]"
      ]
     },
     "execution_count": 58,
     "metadata": {},
     "output_type": "execute_result"
    }
   ],
   "source": [
    "df.head()"
   ]
  },
  {
   "cell_type": "markdown",
   "metadata": {
    "id": "qBMux9mC6MCf"
   },
   "source": [
    "##### Which text vectorization technique have you used and why?"
   ]
  },
  {
   "cell_type": "markdown",
   "metadata": {
    "id": "su2EnbCh6UKQ"
   },
   "source": [
    "Answer Here."
   ]
  },
  {
   "cell_type": "markdown",
   "metadata": {
    "id": "-oLEiFgy-5Pf"
   },
   "source": [
    "### 4. Feature Manipulation & Selection"
   ]
  },
  {
   "cell_type": "markdown",
   "metadata": {
    "id": "C74aWNz2AliB"
   },
   "source": [
    "#### 1. Feature Manipulation"
   ]
  },
  {
   "cell_type": "code",
   "execution_count": 59,
   "metadata": {
    "id": "h1qC4yhBApWC"
   },
   "outputs": [
    {
     "data": {
      "text/html": [
       "<div>\n",
       "<style scoped>\n",
       "    .dataframe tbody tr th:only-of-type {\n",
       "        vertical-align: middle;\n",
       "    }\n",
       "\n",
       "    .dataframe tbody tr th {\n",
       "        vertical-align: top;\n",
       "    }\n",
       "\n",
       "    .dataframe thead th {\n",
       "        text-align: right;\n",
       "    }\n",
       "</style>\n",
       "<table border=\"1\" class=\"dataframe\">\n",
       "  <thead>\n",
       "    <tr style=\"text-align: right;\">\n",
       "      <th></th>\n",
       "      <th>Name</th>\n",
       "      <th>Cost</th>\n",
       "      <th>Rating</th>\n",
       "      <th>TFIDF_Review</th>\n",
       "      <th>available</th>\n",
       "      <th>bakery</th>\n",
       "      <th>bar</th>\n",
       "      <th>barbecue</th>\n",
       "      <th>best</th>\n",
       "      <th>biryani</th>\n",
       "      <th>...</th>\n",
       "      <th>north</th>\n",
       "      <th>pizza</th>\n",
       "      <th>salad</th>\n",
       "      <th>seafood</th>\n",
       "      <th>south</th>\n",
       "      <th>spanish</th>\n",
       "      <th>street</th>\n",
       "      <th>sushi</th>\n",
       "      <th>thai</th>\n",
       "      <th>wrap</th>\n",
       "    </tr>\n",
       "  </thead>\n",
       "  <tbody>\n",
       "    <tr>\n",
       "      <th>0</th>\n",
       "      <td>beyond flavour</td>\n",
       "      <td>800.0</td>\n",
       "      <td>4.280000</td>\n",
       "      <td>[0.0, 0.0, 0.0, 0.0, 0.0, 0.0, 0.0, 0.0, 0.0, ...</td>\n",
       "      <td>0</td>\n",
       "      <td>0</td>\n",
       "      <td>0</td>\n",
       "      <td>0</td>\n",
       "      <td>0</td>\n",
       "      <td>0</td>\n",
       "      <td>...</td>\n",
       "      <td>1</td>\n",
       "      <td>0</td>\n",
       "      <td>0</td>\n",
       "      <td>0</td>\n",
       "      <td>1</td>\n",
       "      <td>0</td>\n",
       "      <td>0</td>\n",
       "      <td>0</td>\n",
       "      <td>0</td>\n",
       "      <td>0</td>\n",
       "    </tr>\n",
       "    <tr>\n",
       "      <th>1</th>\n",
       "      <td>paradise</td>\n",
       "      <td>800.0</td>\n",
       "      <td>4.700000</td>\n",
       "      <td>[0.0, 0.0, 0.0, 0.0, 0.0, 0.0, 0.0, 0.0, 0.0, ...</td>\n",
       "      <td>0</td>\n",
       "      <td>0</td>\n",
       "      <td>0</td>\n",
       "      <td>0</td>\n",
       "      <td>0</td>\n",
       "      <td>0</td>\n",
       "      <td>...</td>\n",
       "      <td>1</td>\n",
       "      <td>0</td>\n",
       "      <td>0</td>\n",
       "      <td>0</td>\n",
       "      <td>0</td>\n",
       "      <td>0</td>\n",
       "      <td>0</td>\n",
       "      <td>0</td>\n",
       "      <td>0</td>\n",
       "      <td>0</td>\n",
       "    </tr>\n",
       "    <tr>\n",
       "      <th>2</th>\n",
       "      <td>flechazo</td>\n",
       "      <td>1300.0</td>\n",
       "      <td>4.660000</td>\n",
       "      <td>[0.0, 0.0, 0.0, 0.012268811632284854, 0.0, 0.0...</td>\n",
       "      <td>0</td>\n",
       "      <td>0</td>\n",
       "      <td>0</td>\n",
       "      <td>0</td>\n",
       "      <td>0</td>\n",
       "      <td>0</td>\n",
       "      <td>...</td>\n",
       "      <td>1</td>\n",
       "      <td>0</td>\n",
       "      <td>0</td>\n",
       "      <td>0</td>\n",
       "      <td>0</td>\n",
       "      <td>0</td>\n",
       "      <td>0</td>\n",
       "      <td>0</td>\n",
       "      <td>0</td>\n",
       "      <td>0</td>\n",
       "    </tr>\n",
       "    <tr>\n",
       "      <th>3</th>\n",
       "      <td>shah ghouse hotel restaurant</td>\n",
       "      <td>800.0</td>\n",
       "      <td>3.210000</td>\n",
       "      <td>[0.0, 0.0, 0.0, 0.0, 0.0, 0.0, 0.0, 0.0, 0.0, ...</td>\n",
       "      <td>0</td>\n",
       "      <td>0</td>\n",
       "      <td>0</td>\n",
       "      <td>0</td>\n",
       "      <td>0</td>\n",
       "      <td>0</td>\n",
       "      <td>...</td>\n",
       "      <td>1</td>\n",
       "      <td>0</td>\n",
       "      <td>0</td>\n",
       "      <td>1</td>\n",
       "      <td>0</td>\n",
       "      <td>0</td>\n",
       "      <td>0</td>\n",
       "      <td>0</td>\n",
       "      <td>0</td>\n",
       "      <td>0</td>\n",
       "    </tr>\n",
       "    <tr>\n",
       "      <th>4</th>\n",
       "      <td>moon brew company</td>\n",
       "      <td>1200.0</td>\n",
       "      <td>4.340000</td>\n",
       "      <td>[0.0, 0.0, 0.0, 0.0, 0.0, 0.0, 0.0, 0.0, 0.0, ...</td>\n",
       "      <td>0</td>\n",
       "      <td>0</td>\n",
       "      <td>1</td>\n",
       "      <td>0</td>\n",
       "      <td>1</td>\n",
       "      <td>0</td>\n",
       "      <td>...</td>\n",
       "      <td>1</td>\n",
       "      <td>0</td>\n",
       "      <td>0</td>\n",
       "      <td>0</td>\n",
       "      <td>0</td>\n",
       "      <td>0</td>\n",
       "      <td>0</td>\n",
       "      <td>0</td>\n",
       "      <td>0</td>\n",
       "      <td>0</td>\n",
       "    </tr>\n",
       "    <tr>\n",
       "      <th>...</th>\n",
       "      <td>...</td>\n",
       "      <td>...</td>\n",
       "      <td>...</td>\n",
       "      <td>...</td>\n",
       "      <td>...</td>\n",
       "      <td>...</td>\n",
       "      <td>...</td>\n",
       "      <td>...</td>\n",
       "      <td>...</td>\n",
       "      <td>...</td>\n",
       "      <td>...</td>\n",
       "      <td>...</td>\n",
       "      <td>...</td>\n",
       "      <td>...</td>\n",
       "      <td>...</td>\n",
       "      <td>...</td>\n",
       "      <td>...</td>\n",
       "      <td>...</td>\n",
       "      <td>...</td>\n",
       "      <td>...</td>\n",
       "      <td>...</td>\n",
       "    </tr>\n",
       "    <tr>\n",
       "      <th>100</th>\n",
       "      <td>indiblaze</td>\n",
       "      <td>600.0</td>\n",
       "      <td>3.613081</td>\n",
       "      <td>[0.0, 0.0, 0.0, 0.0, 0.0, 0.0, 0.0, 0.0, 0.0, ...</td>\n",
       "      <td>1</td>\n",
       "      <td>0</td>\n",
       "      <td>0</td>\n",
       "      <td>0</td>\n",
       "      <td>0</td>\n",
       "      <td>0</td>\n",
       "      <td>...</td>\n",
       "      <td>0</td>\n",
       "      <td>0</td>\n",
       "      <td>1</td>\n",
       "      <td>0</td>\n",
       "      <td>0</td>\n",
       "      <td>0</td>\n",
       "      <td>0</td>\n",
       "      <td>0</td>\n",
       "      <td>0</td>\n",
       "      <td>0</td>\n",
       "    </tr>\n",
       "    <tr>\n",
       "      <th>101</th>\n",
       "      <td>sweet basket</td>\n",
       "      <td>200.0</td>\n",
       "      <td>3.613081</td>\n",
       "      <td>[0.0, 0.0, 0.0, 0.0, 0.0, 0.0, 0.0, 0.0, 0.0, ...</td>\n",
       "      <td>1</td>\n",
       "      <td>0</td>\n",
       "      <td>0</td>\n",
       "      <td>0</td>\n",
       "      <td>0</td>\n",
       "      <td>0</td>\n",
       "      <td>...</td>\n",
       "      <td>0</td>\n",
       "      <td>0</td>\n",
       "      <td>0</td>\n",
       "      <td>0</td>\n",
       "      <td>0</td>\n",
       "      <td>0</td>\n",
       "      <td>0</td>\n",
       "      <td>0</td>\n",
       "      <td>0</td>\n",
       "      <td>0</td>\n",
       "    </tr>\n",
       "    <tr>\n",
       "      <th>102</th>\n",
       "      <td>angaara count</td>\n",
       "      <td>500.0</td>\n",
       "      <td>3.613081</td>\n",
       "      <td>[0.0, 0.0, 0.0, 0.0, 0.0, 0.0, 0.0, 0.0, 0.0, ...</td>\n",
       "      <td>1</td>\n",
       "      <td>0</td>\n",
       "      <td>0</td>\n",
       "      <td>0</td>\n",
       "      <td>0</td>\n",
       "      <td>0</td>\n",
       "      <td>...</td>\n",
       "      <td>1</td>\n",
       "      <td>0</td>\n",
       "      <td>0</td>\n",
       "      <td>0</td>\n",
       "      <td>0</td>\n",
       "      <td>0</td>\n",
       "      <td>0</td>\n",
       "      <td>0</td>\n",
       "      <td>0</td>\n",
       "      <td>0</td>\n",
       "    </tr>\n",
       "    <tr>\n",
       "      <th>103</th>\n",
       "      <td>wich please</td>\n",
       "      <td>250.0</td>\n",
       "      <td>3.613081</td>\n",
       "      <td>[0.0, 0.0, 0.0, 0.0, 0.0, 0.0, 0.0, 0.0, 0.0, ...</td>\n",
       "      <td>1</td>\n",
       "      <td>0</td>\n",
       "      <td>0</td>\n",
       "      <td>0</td>\n",
       "      <td>0</td>\n",
       "      <td>0</td>\n",
       "      <td>...</td>\n",
       "      <td>0</td>\n",
       "      <td>0</td>\n",
       "      <td>0</td>\n",
       "      <td>0</td>\n",
       "      <td>0</td>\n",
       "      <td>0</td>\n",
       "      <td>0</td>\n",
       "      <td>0</td>\n",
       "      <td>0</td>\n",
       "      <td>0</td>\n",
       "    </tr>\n",
       "    <tr>\n",
       "      <th>104</th>\n",
       "      <td>republic noodle lemon tree hotel</td>\n",
       "      <td>1700.0</td>\n",
       "      <td>3.613081</td>\n",
       "      <td>[0.0, 0.0, 0.0, 0.0, 0.0, 0.0, 0.0, 0.0, 0.0, ...</td>\n",
       "      <td>0</td>\n",
       "      <td>0</td>\n",
       "      <td>0</td>\n",
       "      <td>0</td>\n",
       "      <td>0</td>\n",
       "      <td>0</td>\n",
       "      <td>...</td>\n",
       "      <td>0</td>\n",
       "      <td>0</td>\n",
       "      <td>0</td>\n",
       "      <td>0</td>\n",
       "      <td>0</td>\n",
       "      <td>0</td>\n",
       "      <td>0</td>\n",
       "      <td>0</td>\n",
       "      <td>1</td>\n",
       "      <td>0</td>\n",
       "    </tr>\n",
       "  </tbody>\n",
       "</table>\n",
       "<p>105 rows × 127 columns</p>\n",
       "</div>"
      ],
      "text/plain": [
       "                                 Name    Cost    Rating  \\\n",
       "0                      beyond flavour   800.0  4.280000   \n",
       "1                            paradise   800.0  4.700000   \n",
       "2                            flechazo  1300.0  4.660000   \n",
       "3        shah ghouse hotel restaurant   800.0  3.210000   \n",
       "4                   moon brew company  1200.0  4.340000   \n",
       "..                                ...     ...       ...   \n",
       "100                         indiblaze   600.0  3.613081   \n",
       "101                      sweet basket   200.0  3.613081   \n",
       "102                     angaara count   500.0  3.613081   \n",
       "103                       wich please   250.0  3.613081   \n",
       "104  republic noodle lemon tree hotel  1700.0  3.613081   \n",
       "\n",
       "                                          TFIDF_Review  available  bakery  \\\n",
       "0    [0.0, 0.0, 0.0, 0.0, 0.0, 0.0, 0.0, 0.0, 0.0, ...          0       0   \n",
       "1    [0.0, 0.0, 0.0, 0.0, 0.0, 0.0, 0.0, 0.0, 0.0, ...          0       0   \n",
       "2    [0.0, 0.0, 0.0, 0.012268811632284854, 0.0, 0.0...          0       0   \n",
       "3    [0.0, 0.0, 0.0, 0.0, 0.0, 0.0, 0.0, 0.0, 0.0, ...          0       0   \n",
       "4    [0.0, 0.0, 0.0, 0.0, 0.0, 0.0, 0.0, 0.0, 0.0, ...          0       0   \n",
       "..                                                 ...        ...     ...   \n",
       "100  [0.0, 0.0, 0.0, 0.0, 0.0, 0.0, 0.0, 0.0, 0.0, ...          1       0   \n",
       "101  [0.0, 0.0, 0.0, 0.0, 0.0, 0.0, 0.0, 0.0, 0.0, ...          1       0   \n",
       "102  [0.0, 0.0, 0.0, 0.0, 0.0, 0.0, 0.0, 0.0, 0.0, ...          1       0   \n",
       "103  [0.0, 0.0, 0.0, 0.0, 0.0, 0.0, 0.0, 0.0, 0.0, ...          1       0   \n",
       "104  [0.0, 0.0, 0.0, 0.0, 0.0, 0.0, 0.0, 0.0, 0.0, ...          0       0   \n",
       "\n",
       "     bar  barbecue  best  biryani  ...  north  pizza  salad  seafood  south  \\\n",
       "0      0         0     0        0  ...      1      0      0        0      1   \n",
       "1      0         0     0        0  ...      1      0      0        0      0   \n",
       "2      0         0     0        0  ...      1      0      0        0      0   \n",
       "3      0         0     0        0  ...      1      0      0        1      0   \n",
       "4      1         0     1        0  ...      1      0      0        0      0   \n",
       "..   ...       ...   ...      ...  ...    ...    ...    ...      ...    ...   \n",
       "100    0         0     0        0  ...      0      0      1        0      0   \n",
       "101    0         0     0        0  ...      0      0      0        0      0   \n",
       "102    0         0     0        0  ...      1      0      0        0      0   \n",
       "103    0         0     0        0  ...      0      0      0        0      0   \n",
       "104    0         0     0        0  ...      0      0      0        0      0   \n",
       "\n",
       "     spanish  street  sushi  thai  wrap  \n",
       "0          0       0      0     0     0  \n",
       "1          0       0      0     0     0  \n",
       "2          0       0      0     0     0  \n",
       "3          0       0      0     0     0  \n",
       "4          0       0      0     0     0  \n",
       "..       ...     ...    ...   ...   ...  \n",
       "100        0       0      0     0     0  \n",
       "101        0       0      0     0     0  \n",
       "102        0       0      0     0     0  \n",
       "103        0       0      0     0     0  \n",
       "104        0       0      0     1     0  \n",
       "\n",
       "[105 rows x 127 columns]"
      ]
     },
     "execution_count": 59,
     "metadata": {},
     "output_type": "execute_result"
    }
   ],
   "source": [
    "# Manipulate Features to minimize feature correlation and create new features\n",
    "df.drop(columns = [\"POS_Tags\", \"Review\"], axis = 1)"
   ]
  },
  {
   "cell_type": "code",
   "execution_count": 65,
   "metadata": {},
   "outputs": [
    {
     "data": {
      "text/html": [
       "<div>\n",
       "<style scoped>\n",
       "    .dataframe tbody tr th:only-of-type {\n",
       "        vertical-align: middle;\n",
       "    }\n",
       "\n",
       "    .dataframe tbody tr th {\n",
       "        vertical-align: top;\n",
       "    }\n",
       "\n",
       "    .dataframe thead th {\n",
       "        text-align: right;\n",
       "    }\n",
       "</style>\n",
       "<table border=\"1\" class=\"dataframe\">\n",
       "  <thead>\n",
       "    <tr style=\"text-align: right;\">\n",
       "      <th></th>\n",
       "      <th>Name</th>\n",
       "      <th>Cost</th>\n",
       "      <th>Review</th>\n",
       "      <th>Rating</th>\n",
       "      <th>POS_Tags</th>\n",
       "      <th>TFIDF_Review</th>\n",
       "      <th>available</th>\n",
       "      <th>bakery</th>\n",
       "      <th>bar</th>\n",
       "      <th>barbecue</th>\n",
       "      <th>...</th>\n",
       "      <th>north</th>\n",
       "      <th>pizza</th>\n",
       "      <th>salad</th>\n",
       "      <th>seafood</th>\n",
       "      <th>south</th>\n",
       "      <th>spanish</th>\n",
       "      <th>street</th>\n",
       "      <th>sushi</th>\n",
       "      <th>thai</th>\n",
       "      <th>wrap</th>\n",
       "    </tr>\n",
       "  </thead>\n",
       "  <tbody>\n",
       "    <tr>\n",
       "      <th>0</th>\n",
       "      <td>beyond flavour</td>\n",
       "      <td>-0.120990</td>\n",
       "      <td>ambience good food quite good saturday lunch c...</td>\n",
       "      <td>1.373349</td>\n",
       "      <td>[(ambience, RB), (good, JJ), (food, NN), (quit...</td>\n",
       "      <td>[0.0, 0.0, 0.0, 0.0, 0.0, 0.0, 0.0, 0.0, 0.0, ...</td>\n",
       "      <td>0</td>\n",
       "      <td>0</td>\n",
       "      <td>0</td>\n",
       "      <td>0</td>\n",
       "      <td>...</td>\n",
       "      <td>1</td>\n",
       "      <td>0</td>\n",
       "      <td>0</td>\n",
       "      <td>0</td>\n",
       "      <td>1</td>\n",
       "      <td>0</td>\n",
       "      <td>0</td>\n",
       "      <td>0</td>\n",
       "      <td>0</td>\n",
       "      <td>0</td>\n",
       "    </tr>\n",
       "    <tr>\n",
       "      <th>1</th>\n",
       "      <td>paradise</td>\n",
       "      <td>-0.120990</td>\n",
       "      <td>paradise biryani really good service also good...</td>\n",
       "      <td>2.224627</td>\n",
       "      <td>[(paradise, NN), (biryani, NN), (really, RB), ...</td>\n",
       "      <td>[0.0, 0.0, 0.0, 0.0, 0.0, 0.0, 0.0, 0.0, 0.0, ...</td>\n",
       "      <td>0</td>\n",
       "      <td>0</td>\n",
       "      <td>0</td>\n",
       "      <td>0</td>\n",
       "      <td>...</td>\n",
       "      <td>1</td>\n",
       "      <td>0</td>\n",
       "      <td>0</td>\n",
       "      <td>0</td>\n",
       "      <td>0</td>\n",
       "      <td>0</td>\n",
       "      <td>0</td>\n",
       "      <td>0</td>\n",
       "      <td>0</td>\n",
       "      <td>0</td>\n",
       "    </tr>\n",
       "    <tr>\n",
       "      <th>2</th>\n",
       "      <td>flechazo</td>\n",
       "      <td>0.863815</td>\n",
       "      <td>people visited place thursday nightambience se...</td>\n",
       "      <td>2.143553</td>\n",
       "      <td>[(people, NNS), (visited, VBD), (place, NN), (...</td>\n",
       "      <td>[0.0, 0.0, 0.0, 0.012268811632284854, 0.0, 0.0...</td>\n",
       "      <td>0</td>\n",
       "      <td>0</td>\n",
       "      <td>0</td>\n",
       "      <td>0</td>\n",
       "      <td>...</td>\n",
       "      <td>1</td>\n",
       "      <td>0</td>\n",
       "      <td>0</td>\n",
       "      <td>0</td>\n",
       "      <td>0</td>\n",
       "      <td>0</td>\n",
       "      <td>0</td>\n",
       "      <td>0</td>\n",
       "      <td>0</td>\n",
       "      <td>0</td>\n",
       "    </tr>\n",
       "    <tr>\n",
       "      <th>3</th>\n",
       "      <td>shah ghouse hotel restaurant</td>\n",
       "      <td>-0.120990</td>\n",
       "      <td>haleem best place try avaialble multiple outle...</td>\n",
       "      <td>-0.795385</td>\n",
       "      <td>[(haleem, NN), (best, JJS), (place, NN), (try,...</td>\n",
       "      <td>[0.0, 0.0, 0.0, 0.0, 0.0, 0.0, 0.0, 0.0, 0.0, ...</td>\n",
       "      <td>0</td>\n",
       "      <td>0</td>\n",
       "      <td>0</td>\n",
       "      <td>0</td>\n",
       "      <td>...</td>\n",
       "      <td>1</td>\n",
       "      <td>0</td>\n",
       "      <td>0</td>\n",
       "      <td>1</td>\n",
       "      <td>0</td>\n",
       "      <td>0</td>\n",
       "      <td>0</td>\n",
       "      <td>0</td>\n",
       "      <td>0</td>\n",
       "      <td>0</td>\n",
       "    </tr>\n",
       "    <tr>\n",
       "      <th>4</th>\n",
       "      <td>moon brew company</td>\n",
       "      <td>0.666854</td>\n",
       "      <td>great ambience met excellent man sarbeshwar su...</td>\n",
       "      <td>1.494960</td>\n",
       "      <td>[(great, JJ), (ambience, NN), (met, VBD), (exc...</td>\n",
       "      <td>[0.0, 0.0, 0.0, 0.0, 0.0, 0.0, 0.0, 0.0, 0.0, ...</td>\n",
       "      <td>0</td>\n",
       "      <td>0</td>\n",
       "      <td>1</td>\n",
       "      <td>0</td>\n",
       "      <td>...</td>\n",
       "      <td>1</td>\n",
       "      <td>0</td>\n",
       "      <td>0</td>\n",
       "      <td>0</td>\n",
       "      <td>0</td>\n",
       "      <td>0</td>\n",
       "      <td>0</td>\n",
       "      <td>0</td>\n",
       "      <td>0</td>\n",
       "      <td>0</td>\n",
       "    </tr>\n",
       "  </tbody>\n",
       "</table>\n",
       "<p>5 rows × 129 columns</p>\n",
       "</div>"
      ],
      "text/plain": [
       "                           Name      Cost  \\\n",
       "0                beyond flavour -0.120990   \n",
       "1                      paradise -0.120990   \n",
       "2                      flechazo  0.863815   \n",
       "3  shah ghouse hotel restaurant -0.120990   \n",
       "4             moon brew company  0.666854   \n",
       "\n",
       "                                              Review    Rating  \\\n",
       "0  ambience good food quite good saturday lunch c...  1.373349   \n",
       "1  paradise biryani really good service also good...  2.224627   \n",
       "2  people visited place thursday nightambience se...  2.143553   \n",
       "3  haleem best place try avaialble multiple outle... -0.795385   \n",
       "4  great ambience met excellent man sarbeshwar su...  1.494960   \n",
       "\n",
       "                                            POS_Tags  \\\n",
       "0  [(ambience, RB), (good, JJ), (food, NN), (quit...   \n",
       "1  [(paradise, NN), (biryani, NN), (really, RB), ...   \n",
       "2  [(people, NNS), (visited, VBD), (place, NN), (...   \n",
       "3  [(haleem, NN), (best, JJS), (place, NN), (try,...   \n",
       "4  [(great, JJ), (ambience, NN), (met, VBD), (exc...   \n",
       "\n",
       "                                        TFIDF_Review  available  bakery  bar  \\\n",
       "0  [0.0, 0.0, 0.0, 0.0, 0.0, 0.0, 0.0, 0.0, 0.0, ...          0       0    0   \n",
       "1  [0.0, 0.0, 0.0, 0.0, 0.0, 0.0, 0.0, 0.0, 0.0, ...          0       0    0   \n",
       "2  [0.0, 0.0, 0.0, 0.012268811632284854, 0.0, 0.0...          0       0    0   \n",
       "3  [0.0, 0.0, 0.0, 0.0, 0.0, 0.0, 0.0, 0.0, 0.0, ...          0       0    0   \n",
       "4  [0.0, 0.0, 0.0, 0.0, 0.0, 0.0, 0.0, 0.0, 0.0, ...          0       0    1   \n",
       "\n",
       "   barbecue  ...  north  pizza  salad  seafood  south  spanish  street  sushi  \\\n",
       "0         0  ...      1      0      0        0      1        0       0      0   \n",
       "1         0  ...      1      0      0        0      0        0       0      0   \n",
       "2         0  ...      1      0      0        0      0        0       0      0   \n",
       "3         0  ...      1      0      0        1      0        0       0      0   \n",
       "4         0  ...      1      0      0        0      0        0       0      0   \n",
       "\n",
       "   thai  wrap  \n",
       "0     0     0  \n",
       "1     0     0  \n",
       "2     0     0  \n",
       "3     0     0  \n",
       "4     0     0  \n",
       "\n",
       "[5 rows x 129 columns]"
      ]
     },
     "execution_count": 65,
     "metadata": {},
     "output_type": "execute_result"
    }
   ],
   "source": [
    "numerical_cols = ['Cost', 'Rating']  # Add other numerical columns if needed\n",
    "\n",
    "# Initialize StandardScaler\n",
    "scaler = StandardScaler()\n",
    "\n",
    "# Fit and transform the numerical columns\n",
    "df[numerical_cols] = scaler.fit_transform(df[numerical_cols])\n",
    "\n",
    "# Display the first few rows\n",
    "df.head()"
   ]
  },
  {
   "cell_type": "markdown",
   "metadata": {
    "id": "2DejudWSA-a0"
   },
   "source": [
    "#### 2. Feature Selection"
   ]
  },
  {
   "cell_type": "code",
   "execution_count": null,
   "metadata": {
    "id": "YLhe8UmaBCEE"
   },
   "outputs": [],
   "source": [
    "# Select your features wisely to avoid overfitting"
   ]
  },
  {
   "cell_type": "markdown",
   "metadata": {
    "id": "pEMng2IbBLp7"
   },
   "source": [
    "##### What all feature selection methods have you used  and why?"
   ]
  },
  {
   "cell_type": "markdown",
   "metadata": {
    "id": "rb2Lh6Z8BgGs"
   },
   "source": [
    "Answer Here."
   ]
  },
  {
   "cell_type": "markdown",
   "metadata": {
    "id": "rAdphbQ9Bhjc"
   },
   "source": [
    "##### Which all features you found important and why?"
   ]
  },
  {
   "cell_type": "markdown",
   "metadata": {
    "id": "fGgaEstsBnaf"
   },
   "source": [
    "Answer Here."
   ]
  },
  {
   "cell_type": "markdown",
   "metadata": {
    "id": "TNVZ9zx19K6k"
   },
   "source": [
    "### 5. Data Transformation"
   ]
  },
  {
   "cell_type": "markdown",
   "metadata": {
    "id": "nqoHp30x9hH9"
   },
   "source": [
    "#### Do you think that your data needs to be transformed? If yes, which transformation have you used. Explain Why?"
   ]
  },
  {
   "cell_type": "code",
   "execution_count": null,
   "metadata": {
    "id": "I6quWQ1T9rtH"
   },
   "outputs": [],
   "source": [
    "# Transform Your data"
   ]
  },
  {
   "cell_type": "markdown",
   "metadata": {
    "id": "rMDnDkt2B6du"
   },
   "source": [
    "### 6. Data Scaling"
   ]
  },
  {
   "cell_type": "code",
   "execution_count": null,
   "metadata": {
    "id": "dL9LWpySC6x_"
   },
   "outputs": [],
   "source": [
    "# Scaling your data"
   ]
  },
  {
   "cell_type": "markdown",
   "metadata": {
    "id": "yiiVWRdJDDil"
   },
   "source": [
    "##### Which method have you used to scale you data and why?"
   ]
  },
  {
   "cell_type": "markdown",
   "metadata": {
    "id": "1UUpS68QDMuG"
   },
   "source": [
    "### 7. Dimesionality Reduction"
   ]
  },
  {
   "cell_type": "markdown",
   "metadata": {
    "id": "kexQrXU-DjzY"
   },
   "source": [
    "##### Do you think that dimensionality reduction is needed? Explain Why?"
   ]
  },
  {
   "cell_type": "markdown",
   "metadata": {
    "id": "GGRlBsSGDtTQ"
   },
   "source": [
    "Answer Here."
   ]
  },
  {
   "cell_type": "code",
   "execution_count": null,
   "metadata": {
    "id": "kQfvxBBHDvCa"
   },
   "outputs": [],
   "source": [
    "# DImensionality Reduction (If needed)"
   ]
  },
  {
   "cell_type": "markdown",
   "metadata": {
    "id": "T5CmagL3EC8N"
   },
   "source": [
    "##### Which dimensionality reduction technique have you used and why? (If dimensionality reduction done on dataset.)"
   ]
  },
  {
   "cell_type": "markdown",
   "metadata": {
    "id": "ZKr75IDuEM7t"
   },
   "source": [
    "Answer Here."
   ]
  },
  {
   "cell_type": "markdown",
   "metadata": {
    "id": "BhH2vgX9EjGr"
   },
   "source": [
    "### 8. Data Splitting"
   ]
  },
  {
   "cell_type": "code",
   "execution_count": null,
   "metadata": {
    "id": "0CTyd2UwEyNM"
   },
   "outputs": [],
   "source": [
    "# Split your data to train and test. Choose Splitting ratio wisely."
   ]
  },
  {
   "cell_type": "markdown",
   "metadata": {
    "id": "qjKvONjwE8ra"
   },
   "source": [
    "##### What data splitting ratio have you used and why?"
   ]
  },
  {
   "cell_type": "markdown",
   "metadata": {
    "id": "Y2lJ8cobFDb_"
   },
   "source": [
    "Answer Here."
   ]
  },
  {
   "cell_type": "markdown",
   "metadata": {
    "id": "P1XJ9OREExlT"
   },
   "source": [
    "### 9. Handling Imbalanced Dataset"
   ]
  },
  {
   "cell_type": "markdown",
   "metadata": {
    "id": "VFOzZv6IFROw"
   },
   "source": [
    "##### Do you think the dataset is imbalanced? Explain Why."
   ]
  },
  {
   "cell_type": "markdown",
   "metadata": {
    "id": "GeKDIv7pFgcC"
   },
   "source": [
    "Answer Here."
   ]
  },
  {
   "cell_type": "code",
   "execution_count": null,
   "metadata": {
    "id": "nQsRhhZLFiDs"
   },
   "outputs": [],
   "source": [
    "# Handling Imbalanced Dataset (If needed)"
   ]
  },
  {
   "cell_type": "markdown",
   "metadata": {
    "id": "TIqpNgepFxVj"
   },
   "source": [
    "##### What technique did you use to handle the imbalance dataset and why? (If needed to be balanced)"
   ]
  },
  {
   "cell_type": "markdown",
   "metadata": {
    "id": "qbet1HwdGDTz"
   },
   "source": [
    "Answer Here."
   ]
  },
  {
   "cell_type": "markdown",
   "metadata": {
    "id": "VfCC591jGiD4"
   },
   "source": [
    "## ***7. ML Model Implementation***"
   ]
  },
  {
   "cell_type": "markdown",
   "metadata": {
    "id": "OB4l2ZhMeS1U"
   },
   "source": [
    "### ML Model - 1"
   ]
  },
  {
   "cell_type": "code",
   "execution_count": 66,
   "metadata": {
    "id": "7ebyywQieS1U"
   },
   "outputs": [
    {
     "data": {
      "image/png": "[encoded data removed]",
      "text/plain": [
       "<Figure size 800x500 with 1 Axes>"
      ]
     },
     "metadata": {},
     "output_type": "display_data"
    }
   ],
   "source": [
    "# ML Model - 1 Implementation\n",
    "\n",
    "# Fit the Algorithm\n",
    "\n",
    "# Predict on the model\n",
    "wcss = []\n",
    "k_values = range(2, 10)\n",
    "\n",
    "for k in k_values:\n",
    "    kmeans = KMeans(n_clusters=k, random_state=42, n_init=10)\n",
    "    kmeans.fit(df[numerical_cols])\n",
    "    wcss.append(kmeans.inertia_)\n",
    "\n",
    "# Plot Elbow Graph\n",
    "plt.figure(figsize=(8, 5))\n",
    "plt.plot(k_values, wcss, marker='o', linestyle='-')\n",
    "plt.xlabel('Number of Clusters (K)')\n",
    "plt.ylabel('WCSS (Within-Cluster Sum of Squares)')\n",
    "plt.title('Elbow Method for Optimal K')\n",
    "plt.show()"
   ]
  },
  {
   "cell_type": "markdown",
   "metadata": {
    "id": "ArJBuiUVfxKd"
   },
   "source": [
    "#### 1. Explain the ML Model used and it's performance using Evaluation metric Score Chart."
   ]
  },
  {
   "cell_type": "code",
   "execution_count": 67,
   "metadata": {
    "id": "rqD5ZohzfxKe"
   },
   "outputs": [
    {
     "data": {
      "text/html": [
       "<div>\n",
       "<style scoped>\n",
       "    .dataframe tbody tr th:only-of-type {\n",
       "        vertical-align: middle;\n",
       "    }\n",
       "\n",
       "    .dataframe tbody tr th {\n",
       "        vertical-align: top;\n",
       "    }\n",
       "\n",
       "    .dataframe thead th {\n",
       "        text-align: right;\n",
       "    }\n",
       "</style>\n",
       "<table border=\"1\" class=\"dataframe\">\n",
       "  <thead>\n",
       "    <tr style=\"text-align: right;\">\n",
       "      <th></th>\n",
       "      <th>Cost</th>\n",
       "      <th>Rating</th>\n",
       "      <th>KMeans_Cluster</th>\n",
       "    </tr>\n",
       "  </thead>\n",
       "  <tbody>\n",
       "    <tr>\n",
       "      <th>0</th>\n",
       "      <td>-0.120990</td>\n",
       "      <td>1.373349</td>\n",
       "      <td>3</td>\n",
       "    </tr>\n",
       "    <tr>\n",
       "      <th>1</th>\n",
       "      <td>-0.120990</td>\n",
       "      <td>2.224627</td>\n",
       "      <td>0</td>\n",
       "    </tr>\n",
       "    <tr>\n",
       "      <th>2</th>\n",
       "      <td>0.863815</td>\n",
       "      <td>2.143553</td>\n",
       "      <td>0</td>\n",
       "    </tr>\n",
       "    <tr>\n",
       "      <th>3</th>\n",
       "      <td>-0.120990</td>\n",
       "      <td>-0.795385</td>\n",
       "      <td>1</td>\n",
       "    </tr>\n",
       "    <tr>\n",
       "      <th>4</th>\n",
       "      <td>0.666854</td>\n",
       "      <td>1.494960</td>\n",
       "      <td>0</td>\n",
       "    </tr>\n",
       "  </tbody>\n",
       "</table>\n",
       "</div>"
      ],
      "text/plain": [
       "       Cost    Rating  KMeans_Cluster\n",
       "0 -0.120990  1.373349               3\n",
       "1 -0.120990  2.224627               0\n",
       "2  0.863815  2.143553               0\n",
       "3 -0.120990 -0.795385               1\n",
       "4  0.666854  1.494960               0"
      ]
     },
     "execution_count": 67,
     "metadata": {},
     "output_type": "execute_result"
    }
   ],
   "source": [
    "# Visualizing evaluation Metric Score chart\n",
    "optimal_k = 4  # or 5 based on your judgment\n",
    "kmeans = KMeans(n_clusters=optimal_k, random_state=42, n_init=10)\n",
    "df['KMeans_Cluster'] = kmeans.fit_predict(df[numerical_cols])\n",
    "\n",
    "df[['Cost', 'Rating', 'KMeans_Cluster']].head()"
   ]
  },
  {
   "cell_type": "code",
   "execution_count": 68,
   "metadata": {},
   "outputs": [
    {
     "data": {
      "image/png": "[encoded data removed]",
      "text/plain": [
       "<Figure size 640x480 with 1 Axes>"
      ]
     },
     "metadata": {},
     "output_type": "display_data"
    }
   ],
   "source": [
    "sns.scatterplot(x=df['Cost'], y=df['Rating'], hue=df['KMeans_Cluster'], palette='viridis')\n",
    "plt.title('K-Means Clustering Visualization')\n",
    "plt.show()\n"
   ]
  },
  {
   "cell_type": "markdown",
   "metadata": {
    "id": "4qY1EAkEfxKe"
   },
   "source": [
    "#### 2. Cross- Validation & Hyperparameter Tuning"
   ]
  },
  {
   "cell_type": "code",
   "execution_count": 73,
   "metadata": {
    "id": "Dy61ujd6fxKe"
   },
   "outputs": [],
   "source": [
    "# ML Model - 1 Implementation with hyperparameter optimization techniques (i.e., GridSearch CV, RandomSearch CV, Bayesian Optimization etc.)\n",
    "\n",
    "# Fit the Algorithm\n",
    "\n",
    "# Predict on the model\n",
    "tfidf_matrix = np.vstack(df['TFIDF_Review'].values)  "
   ]
  },
  {
   "cell_type": "code",
   "execution_count": 74,
   "metadata": {},
   "outputs": [
    {
     "data": {
      "image/png": "[encoded data removed]",
      "text/plain": [
       "<Figure size 800x500 with 1 Axes>"
      ]
     },
     "metadata": {},
     "output_type": "display_data"
    }
   ],
   "source": [
    "wcss = []\n",
    "k_values = range(2, 10)\n",
    "\n",
    "for k in k_values:\n",
    "    kmeans = KMeans(n_clusters=k, random_state=42, n_init=10)\n",
    "    kmeans.fit(tfidf_matrix)  # Use fixed TF-IDF matrix\n",
    "    wcss.append(kmeans.inertia_)\n",
    "\n",
    "# Plot elbow method\n",
    "plt.figure(figsize=(8, 5))\n",
    "plt.plot(k_values, wcss, marker='o', linestyle='-')\n",
    "plt.xlabel('Number of Clusters (K)')\n",
    "plt.ylabel('WCSS (Within-Cluster Sum of Squares)')\n",
    "plt.title('Elbow Method for Optimal K')\n",
    "plt.show()"
   ]
  },
  {
   "cell_type": "code",
   "execution_count": 77,
   "metadata": {},
   "outputs": [
    {
     "data": {
      "text/html": [
       "<div>\n",
       "<style scoped>\n",
       "    .dataframe tbody tr th:only-of-type {\n",
       "        vertical-align: middle;\n",
       "    }\n",
       "\n",
       "    .dataframe tbody tr th {\n",
       "        vertical-align: top;\n",
       "    }\n",
       "\n",
       "    .dataframe thead th {\n",
       "        text-align: right;\n",
       "    }\n",
       "</style>\n",
       "<table border=\"1\" class=\"dataframe\">\n",
       "  <thead>\n",
       "    <tr style=\"text-align: right;\">\n",
       "      <th></th>\n",
       "      <th>Name</th>\n",
       "      <th>TFIDF_Cluster</th>\n",
       "    </tr>\n",
       "  </thead>\n",
       "  <tbody>\n",
       "    <tr>\n",
       "      <th>0</th>\n",
       "      <td>beyond flavour</td>\n",
       "      <td>3</td>\n",
       "    </tr>\n",
       "    <tr>\n",
       "      <th>1</th>\n",
       "      <td>paradise</td>\n",
       "      <td>2</td>\n",
       "    </tr>\n",
       "    <tr>\n",
       "      <th>2</th>\n",
       "      <td>flechazo</td>\n",
       "      <td>3</td>\n",
       "    </tr>\n",
       "    <tr>\n",
       "      <th>3</th>\n",
       "      <td>shah ghouse hotel restaurant</td>\n",
       "      <td>2</td>\n",
       "    </tr>\n",
       "    <tr>\n",
       "      <th>4</th>\n",
       "      <td>moon brew company</td>\n",
       "      <td>3</td>\n",
       "    </tr>\n",
       "  </tbody>\n",
       "</table>\n",
       "</div>"
      ],
      "text/plain": [
       "                           Name  TFIDF_Cluster\n",
       "0                beyond flavour              3\n",
       "1                      paradise              2\n",
       "2                      flechazo              3\n",
       "3  shah ghouse hotel restaurant              2\n",
       "4             moon brew company              3"
      ]
     },
     "execution_count": 77,
     "metadata": {},
     "output_type": "execute_result"
    }
   ],
   "source": [
    "optimal_k = 5  # Select based on elbow method\n",
    "kmeans = KMeans(n_clusters=optimal_k, random_state=42, n_init=10)\n",
    "df['Review_Rating'] = kmeans.fit_predict(tfidf_matrix)\n",
    "\n",
    "df[['Name', 'TFIDF_Cluster']].head()"
   ]
  },
  {
   "cell_type": "markdown",
   "metadata": {
    "id": "PiV4Ypx8fxKe"
   },
   "source": [
    "##### Which hyperparameter optimization technique have you used and why?"
   ]
  },
  {
   "cell_type": "markdown",
   "metadata": {
    "id": "negyGRa7fxKf"
   },
   "source": [
    "Answer Here."
   ]
  },
  {
   "cell_type": "markdown",
   "metadata": {
    "id": "TfvqoZmBfxKf"
   },
   "source": [
    "##### Have you seen any improvement? Note down the improvement with updates Evaluation metric Score Chart."
   ]
  },
  {
   "cell_type": "markdown",
   "metadata": {
    "id": "OaLui8CcfxKf"
   },
   "source": [
    "Answer Here."
   ]
  },
  {
   "cell_type": "markdown",
   "metadata": {
    "id": "dJ2tPlVmpsJ0"
   },
   "source": [
    "### ML Model - 2"
   ]
  },
  {
   "cell_type": "markdown",
   "metadata": {
    "id": "JWYfwnehpsJ1"
   },
   "source": [
    "#### 1. Explain the ML Model used and it's performance using Evaluation metric Score Chart."
   ]
  },
  {
   "cell_type": "code",
   "execution_count": 95,
   "metadata": {
    "id": "yEl-hgQWpsJ1"
   },
   "outputs": [
    {
     "data": {
      "image/png": "[encoded data removed]",
      "text/plain": [
       "<Figure size 800x500 with 1 Axes>"
      ]
     },
     "metadata": {},
     "output_type": "display_data"
    }
   ],
   "source": [
    "# Visualizing evaluation Metric Score chart\n",
    "# Select only the timing-related one-hot encoded columns\n",
    "features = ['Cost'] + [col for col in df.columns if 'Cuisine_' in col]\n",
    "X = df[features]\n",
    "\n",
    "# Determine the optimal number of clusters using the Elbow Method\n",
    "wcss = []\n",
    "k_values = range(2, 10)\n",
    "\n",
    "for k in k_values:\n",
    "    kmeans = KMeans(n_clusters=k, random_state=42, n_init=10)\n",
    "    kmeans.fit(X)\n",
    "    wcss.append(kmeans.inertia_)\n",
    "\n",
    "# Plot the Elbow Curve\n",
    "plt.figure(figsize=(8, 5))\n",
    "plt.plot(k_values, wcss, marker='o', linestyle='-')\n",
    "plt.xlabel('Number of Clusters (K)')\n",
    "plt.ylabel('WCSS (Within-Cluster Sum of Squares)')\n",
    "plt.title('Elbow Method for Optimal K')\n",
    "plt.show()"
   ]
  },
  {
   "cell_type": "markdown",
   "metadata": {
    "id": "-jK_YjpMpsJ2"
   },
   "source": [
    "#### 2. Cross- Validation & Hyperparameter Tuning"
   ]
  },
  {
   "cell_type": "code",
   "execution_count": 96,
   "metadata": {
    "id": "Dn0EOfS6psJ2"
   },
   "outputs": [
    {
     "data": {
      "text/html": [
       "<div>\n",
       "<style scoped>\n",
       "    .dataframe tbody tr th:only-of-type {\n",
       "        vertical-align: middle;\n",
       "    }\n",
       "\n",
       "    .dataframe tbody tr th {\n",
       "        vertical-align: top;\n",
       "    }\n",
       "\n",
       "    .dataframe thead th {\n",
       "        text-align: right;\n",
       "    }\n",
       "</style>\n",
       "<table border=\"1\" class=\"dataframe\">\n",
       "  <thead>\n",
       "    <tr style=\"text-align: right;\">\n",
       "      <th></th>\n",
       "      <th>Name</th>\n",
       "      <th>Cost</th>\n",
       "      <th>Cluster Name</th>\n",
       "    </tr>\n",
       "  </thead>\n",
       "  <tbody>\n",
       "    <tr>\n",
       "      <th>0</th>\n",
       "      <td>beyond flavour</td>\n",
       "      <td>-0.120990</td>\n",
       "      <td>Budget Street Food</td>\n",
       "    </tr>\n",
       "    <tr>\n",
       "      <th>1</th>\n",
       "      <td>paradise</td>\n",
       "      <td>-0.120990</td>\n",
       "      <td>Budget Street Food</td>\n",
       "    </tr>\n",
       "    <tr>\n",
       "      <th>2</th>\n",
       "      <td>flechazo</td>\n",
       "      <td>0.863815</td>\n",
       "      <td>Luxury International Cuisine</td>\n",
       "    </tr>\n",
       "    <tr>\n",
       "      <th>3</th>\n",
       "      <td>shah ghouse hotel restaurant</td>\n",
       "      <td>-0.120990</td>\n",
       "      <td>Budget Street Food</td>\n",
       "    </tr>\n",
       "    <tr>\n",
       "      <th>4</th>\n",
       "      <td>moon brew company</td>\n",
       "      <td>0.666854</td>\n",
       "      <td>Luxury International Cuisine</td>\n",
       "    </tr>\n",
       "    <tr>\n",
       "      <th>5</th>\n",
       "      <td>fisherman wharf</td>\n",
       "      <td>1.257737</td>\n",
       "      <td>Mid-Range Fast Food</td>\n",
       "    </tr>\n",
       "    <tr>\n",
       "      <th>6</th>\n",
       "      <td>eatfit</td>\n",
       "      <td>-0.711873</td>\n",
       "      <td>Premium Fine Dining</td>\n",
       "    </tr>\n",
       "    <tr>\n",
       "      <th>7</th>\n",
       "      <td>shah ghouse spl shawarma</td>\n",
       "      <td>-1.105796</td>\n",
       "      <td>Premium Fine Dining</td>\n",
       "    </tr>\n",
       "    <tr>\n",
       "      <th>8</th>\n",
       "      <td>hyper local</td>\n",
       "      <td>0.272932</td>\n",
       "      <td>Luxury International Cuisine</td>\n",
       "    </tr>\n",
       "    <tr>\n",
       "      <th>9</th>\n",
       "      <td>cream stone</td>\n",
       "      <td>-1.007315</td>\n",
       "      <td>Premium Fine Dining</td>\n",
       "    </tr>\n",
       "    <tr>\n",
       "      <th>10</th>\n",
       "      <td>sardarjis chaats</td>\n",
       "      <td>-0.908834</td>\n",
       "      <td>Premium Fine Dining</td>\n",
       "    </tr>\n",
       "    <tr>\n",
       "      <th>11</th>\n",
       "      <td>barbeque nation</td>\n",
       "      <td>1.454698</td>\n",
       "      <td>Mid-Range Fast Food</td>\n",
       "    </tr>\n",
       "    <tr>\n",
       "      <th>12</th>\n",
       "      <td>absolute sizzlers</td>\n",
       "      <td>-0.219471</td>\n",
       "      <td>Budget Street Food</td>\n",
       "    </tr>\n",
       "    <tr>\n",
       "      <th>13</th>\n",
       "      <td>lal street bar exchange</td>\n",
       "      <td>0.863815</td>\n",
       "      <td>Luxury International Cuisine</td>\n",
       "    </tr>\n",
       "    <tr>\n",
       "      <th>14</th>\n",
       "      <td>ab absolute barbecue</td>\n",
       "      <td>1.257737</td>\n",
       "      <td>Mid-Range Fast Food</td>\n",
       "    </tr>\n",
       "    <tr>\n",
       "      <th>15</th>\n",
       "      <td>kfc</td>\n",
       "      <td>-0.711873</td>\n",
       "      <td>Premium Fine Dining</td>\n",
       "    </tr>\n",
       "    <tr>\n",
       "      <th>16</th>\n",
       "      <td>norfest dhaba</td>\n",
       "      <td>-0.613393</td>\n",
       "      <td>Budget Street Food</td>\n",
       "    </tr>\n",
       "    <tr>\n",
       "      <th>17</th>\n",
       "      <td>hotel zara hifi</td>\n",
       "      <td>-0.908834</td>\n",
       "      <td>Premium Fine Dining</td>\n",
       "    </tr>\n",
       "    <tr>\n",
       "      <th>18</th>\n",
       "      <td>downing street</td>\n",
       "      <td>2.045581</td>\n",
       "      <td>Mid-Range Fast Food</td>\n",
       "    </tr>\n",
       "    <tr>\n",
       "      <th>19</th>\n",
       "      <td>pakwaan grand</td>\n",
       "      <td>-0.908834</td>\n",
       "      <td>Premium Fine Dining</td>\n",
       "    </tr>\n",
       "  </tbody>\n",
       "</table>\n",
       "</div>"
      ],
      "text/plain": [
       "                            Name      Cost                  Cluster Name\n",
       "0                 beyond flavour -0.120990            Budget Street Food\n",
       "1                       paradise -0.120990            Budget Street Food\n",
       "2                       flechazo  0.863815  Luxury International Cuisine\n",
       "3   shah ghouse hotel restaurant -0.120990            Budget Street Food\n",
       "4              moon brew company  0.666854  Luxury International Cuisine\n",
       "5                fisherman wharf  1.257737           Mid-Range Fast Food\n",
       "6                         eatfit -0.711873           Premium Fine Dining\n",
       "7       shah ghouse spl shawarma -1.105796           Premium Fine Dining\n",
       "8                    hyper local  0.272932  Luxury International Cuisine\n",
       "9                    cream stone -1.007315           Premium Fine Dining\n",
       "10              sardarjis chaats -0.908834           Premium Fine Dining\n",
       "11               barbeque nation  1.454698           Mid-Range Fast Food\n",
       "12             absolute sizzlers -0.219471            Budget Street Food\n",
       "13       lal street bar exchange  0.863815  Luxury International Cuisine\n",
       "14          ab absolute barbecue  1.257737           Mid-Range Fast Food\n",
       "15                           kfc -0.711873           Premium Fine Dining\n",
       "16                 norfest dhaba -0.613393            Budget Street Food\n",
       "17               hotel zara hifi -0.908834           Premium Fine Dining\n",
       "18                downing street  2.045581           Mid-Range Fast Food\n",
       "19                 pakwaan grand -0.908834           Premium Fine Dining"
      ]
     },
     "execution_count": 96,
     "metadata": {},
     "output_type": "execute_result"
    }
   ],
   "source": [
    "# Define categorical feature indices (Timings are categorical, Cost is numeric)\n",
    "optimal_k = 5  # Change this based on the elbow method result\n",
    "kmeans = KMeans(n_clusters=optimal_k, random_state=42, n_init=10)\n",
    "df['Cluster'] = kmeans.fit_predict(X)\n",
    "\n",
    "# Assign meaningful names to clusters based on cost and cuisine patterns\n",
    "cluster_names = {\n",
    "    0: \"Budget Street Food\",\n",
    "    1: \"Mid-Range Fast Food\",\n",
    "    2: \"Premium Fine Dining\",\n",
    "    3: \"Healthy & Vegan Options\",\n",
    "    4: \"Luxury International Cuisine\"\n",
    "}\n",
    "\n",
    "df['Cluster Name'] = df['Cluster'].map(cluster_names)\n",
    "\n",
    "# Display sample results\n",
    "df[['Name', 'Cost', 'Cluster Name']].head(20)"
   ]
  },
  {
   "cell_type": "markdown",
   "metadata": {
    "id": "HAih1iBOpsJ2"
   },
   "source": [
    "##### Which hyperparameter optimization technique have you used and why?"
   ]
  },
  {
   "cell_type": "markdown",
   "metadata": {
    "id": "9kBgjYcdpsJ2"
   },
   "source": [
    "Answer Here."
   ]
  },
  {
   "cell_type": "markdown",
   "metadata": {
    "id": "zVGeBEFhpsJ2"
   },
   "source": [
    "##### Have you seen any improvement? Note down the improvement with updates Evaluation metric Score Chart."
   ]
  },
  {
   "cell_type": "markdown",
   "metadata": {
    "id": "74yRdG6UpsJ3"
   },
   "source": [
    "Answer Here."
   ]
  },
  {
   "cell_type": "markdown",
   "metadata": {
    "id": "bmKjuQ-FpsJ3"
   },
   "source": [
    "#### 3. Explain each evaluation metric's indication towards business and the business impact pf the ML model used."
   ]
  },
  {
   "cell_type": "markdown",
   "metadata": {
    "id": "BDKtOrBQpsJ3"
   },
   "source": [
    "Answer Here."
   ]
  },
  {
   "cell_type": "markdown",
   "metadata": {
    "id": "Fze-IPXLpx6K"
   },
   "source": [
    "### ML Model - 3"
   ]
  },
  {
   "cell_type": "code",
   "execution_count": 101,
   "metadata": {
    "id": "FFrSXAtrpx6M"
   },
   "outputs": [],
   "source": [
    "# ML Model - 3 Implementation\n",
    "\n",
    "# Fit the Algorithm\n",
    "\n",
    "# Predict on the model\n",
    "# Selecting features\n",
    "X = df[['Cost', 'Rating']]\n",
    "\n",
    "# Standardizing the features\n",
    "scaler = StandardScaler()\n",
    "X_scaled = scaler.fit_transform(X)"
   ]
  },
  {
   "cell_type": "markdown",
   "metadata": {
    "id": "7AN1z2sKpx6M"
   },
   "source": [
    "#### 1. Explain the ML Model used and it's performance using Evaluation metric Score Chart."
   ]
  },
  {
   "cell_type": "code",
   "execution_count": 103,
   "metadata": {
    "id": "xIY4lxxGpx6M"
   },
   "outputs": [
    {
     "data": {
      "image/png": "[encoded data removed]",
      "text/plain": [
       "<Figure size 800x500 with 1 Axes>"
      ]
     },
     "metadata": {},
     "output_type": "display_data"
    }
   ],
   "source": [
    "# Visualizing evaluation Metric Score chart\n",
    "wcss = []\n",
    "for k in range(2, 10):\n",
    "    kmeans = KMeans(n_clusters=k, random_state=42, n_init=10)\n",
    "    kmeans.fit(X_scaled)\n",
    "    wcss.append(kmeans.inertia_)\n",
    "plt.figure(figsize=(8, 5))\n",
    "plt.plot(range(2, 10), wcss, marker='o', linestyle='--')\n",
    "plt.xlabel('Number of Clusters')\n",
    "plt.ylabel('WCSS')\n",
    "plt.title('Elbow Method for Optimal K')\n",
    "plt.show()"
   ]
  },
  {
   "cell_type": "markdown",
   "metadata": {
    "id": "9PIHJqyupx6M"
   },
   "source": [
    "#### 2. Cross- Validation & Hyperparameter Tuning"
   ]
  },
  {
   "cell_type": "code",
   "execution_count": 104,
   "metadata": {
    "id": "eSVXuaSKpx6M"
   },
   "outputs": [],
   "source": [
    "# ML Model - 3 Implementation with hyperparameter optimization techniques (i.e., GridSearch CV, RandomSearch CV, Bayesian Optimization etc.)\n",
    "optimal_k = 4  # Choose based on elbow plot\n",
    "kmeans = KMeans(n_clusters=optimal_k, random_state=42, n_init=10)\n",
    "df['Cost_rating'] = kmeans.fit_predict(X_scaled)\n",
    "# Fit the Algorithm\n",
    "\n",
    "# Predict on the model"
   ]
  },
  {
   "cell_type": "code",
   "execution_count": 107,
   "metadata": {},
   "outputs": [
    {
     "data": {
      "image/png": "[encoded data removed]",
      "text/plain": [
       "<Figure size 1000x600 with 1 Axes>"
      ]
     },
     "metadata": {},
     "output_type": "display_data"
    }
   ],
   "source": [
    "# Define category labels for clusters\n",
    "cluster_labels = {\n",
    "    0: 'Budget-Friendly Gems',       # Low-cost, high-rated\n",
    "    1: 'Luxury Dining',              # High-cost, high-rated\n",
    "    2: 'Affordable Casual',          # Mid-cost, decent-rated\n",
    "    3: 'Overpriced or Niche'         # High-cost, low-rated\n",
    "}\n",
    "\n",
    "# Map cluster labels in DataFrame\n",
    "df['Category'] = df['Cost_rating'].map(cluster_labels)\n",
    "\n",
    "plt.figure(figsize=(10, 6))\n",
    "\n",
    "# Scatter plot with category labels\n",
    "sns.scatterplot(x=df['Cost'], y=df['Rating'], hue=df['Category'], palette='Set1', s=120, edgecolor='black', alpha=0.8)\n",
    "\n",
    "# Titles and labels\n",
    "plt.xlabel('Affordability (Cost per Person)', fontsize=12)\n",
    "plt.ylabel('Customer Rating', fontsize=12)\n",
    "plt.title('Restaurant Clusters: Cost vs Rating', fontsize=14, fontweight='bold')\n",
    "\n",
    "# Move legend outside\n",
    "plt.legend(title='Restaurant Category', bbox_to_anchor=(1.05, 1), loc='upper left')\n",
    "\n",
    "# Grid for better visualization\n",
    "plt.grid(True, linestyle='--', alpha=0.6)\n",
    "\n",
    "plt.show()"
   ]
  },
  {
   "cell_type": "markdown",
   "metadata": {
    "id": "_-qAgymDpx6N"
   },
   "source": [
    "##### Which hyperparameter optimization technique have you used and why?"
   ]
  },
  {
   "cell_type": "markdown",
   "metadata": {
    "id": "lQMffxkwpx6N"
   },
   "source": [
    "Answer Here."
   ]
  },
  {
   "cell_type": "markdown",
   "metadata": {
    "id": "Z-hykwinpx6N"
   },
   "source": [
    "##### Have you seen any improvement? Note down the improvement with updates Evaluation metric Score Chart."
   ]
  },
  {
   "cell_type": "markdown",
   "metadata": {
    "id": "MzVzZC6opx6N"
   },
   "source": [
    "Answer Here."
   ]
  },
  {
   "cell_type": "markdown",
   "metadata": {
    "id": "h_CCil-SKHpo"
   },
   "source": [
    "### 1. Which Evaluation metrics did you consider for a positive business impact and why?"
   ]
  },
  {
   "cell_type": "markdown",
   "metadata": {
    "id": "jHVz9hHDKFms"
   },
   "source": [
    "Answer Here."
   ]
  },
  {
   "cell_type": "markdown",
   "metadata": {
    "id": "cBFFvTBNJzUa"
   },
   "source": [
    "### 2. Which ML model did you choose from the above created models as your final prediction model and why?"
   ]
  },
  {
   "cell_type": "markdown",
   "metadata": {
    "id": "6ksF5Q1LKTVm"
   },
   "source": [
    "Answer Here."
   ]
  },
  {
   "cell_type": "markdown",
   "metadata": {
    "id": "HvGl1hHyA_VK"
   },
   "source": [
    "### 3. Explain the model which you have used and the feature importance using any model explainability tool?"
   ]
  },
  {
   "cell_type": "markdown",
   "metadata": {
    "id": "YnvVTiIxBL-C"
   },
   "source": [
    "Answer Here."
   ]
  },
  {
   "cell_type": "markdown",
   "metadata": {
    "id": "EyNgTHvd2WFk"
   },
   "source": [
    "## ***8.*** ***Future Work (Optional)***"
   ]
  },
  {
   "cell_type": "markdown",
   "metadata": {
    "id": "KH5McJBi2d8v"
   },
   "source": [
    "### 1. Save the best performing ml model in a pickle file or joblib file format for deployment process.\n"
   ]
  },
  {
   "cell_type": "code",
   "execution_count": null,
   "metadata": {
    "id": "bQIANRl32f4J"
   },
   "outputs": [],
   "source": [
    "# Save the File"
   ]
  },
  {
   "cell_type": "markdown",
   "metadata": {
    "id": "iW_Lq9qf2h6X"
   },
   "source": [
    "### 2. Again Load the saved model file and try to predict unseen data for a sanity check.\n"
   ]
  },
  {
   "cell_type": "code",
   "execution_count": null,
   "metadata": {
    "id": "oEXk9ydD2nVC"
   },
   "outputs": [],
   "source": [
    "# Load the File and predict unseen data."
   ]
  },
  {
   "cell_type": "markdown",
   "metadata": {
    "id": "-Kee-DAl2viO"
   },
   "source": [
    "### ***Congrats! Your model is successfully created and ready for deployment on a live server for a real user interaction !!!***"
   ]
  },
  {
   "cell_type": "markdown",
   "metadata": {
    "id": "gCX9965dhzqZ"
   },
   "source": [
    "# **Conclusion**"
   ]
  },
  {
   "cell_type": "markdown",
   "metadata": {
    "id": "Fjb1IsQkh3yE"
   },
   "source": [
    "Write the conclusion here."
   ]
  },
  {
   "cell_type": "markdown",
   "metadata": {
    "id": "gIfDvo9L0UH2"
   },
   "source": [
    "### ***Hurrah! You have successfully completed your Machine Learning Capstone Project !!!***"
   ]
  }
 ],
 "metadata": {
  "colab": {
   "collapsed_sections": [
    "vncDsAP0Gaoa",
    "FJNUwmbgGyua",
    "w6K7xa23Elo4",
    "yQaldy8SH6Dl",
    "mDgbUHAGgjLW",
    "O_i_v8NEhb9l",
    "HhfV-JJviCcP",
    "Y3lxredqlCYt",
    "3RnN4peoiCZX",
    "x71ZqKXriCWQ",
    "7hBIi_osiCS2",
    "JlHwYmJAmNHm",
    "35m5QtbWiB9F",
    "PoPl-ycgm1ru",
    "H0kj-8xxnORC",
    "nA9Y7ga8ng1Z",
    "PBTbrJXOngz2",
    "u3PMJOP6ngxN",
    "dauF4eBmngu3",
    "bKJF3rekwFvQ",
    "MSa1f5Uengrz",
    "GF8Ens_Soomf",
    "0wOQAZs5pc--",
    "K5QZ13OEpz2H",
    "lQ7QKXXCp7Bj",
    "448CDAPjqfQr",
    "KSlN3yHqYklG",
    "t6dVpIINYklI",
    "ijmpgYnKYklI",
    "-JiQyfWJYklI",
    "EM7whBJCYoAo",
    "fge-S5ZAYoAp",
    "85gYPyotYoAp",
    "RoGjAbkUYoAp",
    "4Of9eVA-YrdM",
    "iky9q4vBYrdO",
    "F6T5p64dYrdO",
    "y-Ehk30pYrdP",
    "bamQiAODYuh1",
    "QHF8YVU7Yuh3",
    "GwzvFGzlYuh3",
    "qYpmQ266Yuh3",
    "OH-pJp9IphqM",
    "bbFf2-_FphqN",
    "_ouA3fa0phqN",
    "Seke61FWphqN",
    "PIIx-8_IphqN",
    "t27r6nlMphqO",
    "r2jJGEOYphqO",
    "b0JNsNcRphqO",
    "BZR9WyysphqO",
    "jj7wYXLtphqO",
    "eZrbJ2SmphqO",
    "rFu4xreNphqO",
    "YJ55k-q6phqO",
    "gCFgpxoyphqP",
    "OVtJsKN_phqQ",
    "lssrdh5qphqQ",
    "U2RJ9gkRphqQ",
    "1M8mcRywphqQ",
    "tgIPom80phqQ",
    "JMzcOPDDphqR",
    "x-EpHcCOp1ci",
    "X_VqEhTip1ck",
    "8zGJKyg5p1ck",
    "PVzmfK_Ep1ck",
    "n3dbpmDWp1ck",
    "ylSl6qgtp1ck",
    "ZWILFDl5p1ck",
    "M7G43BXep1ck",
    "Ag9LCva-p1cl",
    "E6MkPsBcp1cl",
    "2cELzS2fp1cl",
    "3MPXvC8up1cl",
    "NC_X3p0fY2L0",
    "UV0SzAkaZNRQ",
    "YPEH6qLeZNRQ",
    "q29F0dvdveiT",
    "EXh0U9oCveiU",
    "22aHeOlLveiV",
    "g-ATYxFrGrvw",
    "Yfr_Vlr8HBkt",
    "8yEUt7NnHlrM",
    "tEA2Xm5dHt1r",
    "I79__PHVH19G",
    "Ou-I18pAyIpj",
    "fF3858GYyt-u",
    "4_0_7-oCpUZd",
    "hwyV_J3ipUZe",
    "3yB-zSqbpUZe",
    "dEUvejAfpUZe",
    "Fd15vwWVpUZf",
    "bn_IUdTipZyH",
    "49K5P_iCpZyH",
    "Nff-vKELpZyI",
    "kLW572S8pZyI",
    "dWbDXHzopZyI",
    "yLjJCtPM0KBk",
    "xiyOF9F70UgQ",
    "7wuGOrhz0itI",
    "id1riN9m0vUs",
    "578E2V7j08f6",
    "89xtkJwZ18nB",
    "67NQN5KX2AMe",
    "Iwf50b-R2tYG",
    "GMQiZwjn3iu7",
    "WVIkgGqN3qsr",
    "XkPnILGE3zoT",
    "Hlsf0x5436Go",
    "mT9DMSJo4nBL",
    "c49ITxTc407N",
    "OeJFEK0N496M",
    "9ExmJH0g5HBk",
    "cJNqERVU536h",
    "k5UmGsbsOxih",
    "T0VqWOYE6DLQ",
    "qBMux9mC6MCf",
    "-oLEiFgy-5Pf",
    "C74aWNz2AliB",
    "2DejudWSA-a0",
    "pEMng2IbBLp7",
    "rAdphbQ9Bhjc",
    "TNVZ9zx19K6k",
    "nqoHp30x9hH9",
    "rMDnDkt2B6du",
    "yiiVWRdJDDil",
    "1UUpS68QDMuG",
    "kexQrXU-DjzY",
    "T5CmagL3EC8N",
    "BhH2vgX9EjGr",
    "qjKvONjwE8ra",
    "P1XJ9OREExlT",
    "VFOzZv6IFROw",
    "TIqpNgepFxVj",
    "VfCC591jGiD4",
    "OB4l2ZhMeS1U",
    "ArJBuiUVfxKd",
    "4qY1EAkEfxKe",
    "PiV4Ypx8fxKe",
    "TfvqoZmBfxKf",
    "dJ2tPlVmpsJ0",
    "JWYfwnehpsJ1",
    "-jK_YjpMpsJ2",
    "HAih1iBOpsJ2",
    "zVGeBEFhpsJ2",
    "bmKjuQ-FpsJ3",
    "Fze-IPXLpx6K",
    "7AN1z2sKpx6M",
    "9PIHJqyupx6M",
    "_-qAgymDpx6N",
    "Z-hykwinpx6N",
    "h_CCil-SKHpo",
    "cBFFvTBNJzUa",
    "HvGl1hHyA_VK",
    "EyNgTHvd2WFk",
    "KH5McJBi2d8v",
    "iW_Lq9qf2h6X",
    "-Kee-DAl2viO",
    "gCX9965dhzqZ",
    "gIfDvo9L0UH2"
   ],
   "private_outputs": true,
   "provenance": []
  },
  "kernelspec": {
   "display_name": "Python 3 (ipykernel)",
   "language": "python",
   "name": "python3"
  },
  "language_info": {
   "codemirror_mode": {
    "name": "ipython",
    "version": 3
   },
   "file_extension": ".py",
   "mimetype": "text/x-python",
   "name": "python",
   "nbconvert_exporter": "python",
   "pygments_lexer": "ipython3",
   "version": "3.12.7"
  }
 },
 "nbformat": 4,
 "nbformat_minor": 4
}
